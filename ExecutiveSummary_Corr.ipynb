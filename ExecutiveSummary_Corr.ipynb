{
 "cells": [
  {
   "cell_type": "code",
   "execution_count": 2,
   "metadata": {},
   "outputs": [],
   "source": [
    "import os\n",
    "import pandas as pd\n",
    "import numpy as np"
   ]
  },
  {
   "cell_type": "code",
   "execution_count": 3,
   "metadata": {},
   "outputs": [],
   "source": [
    "import CorrHelpers as ch"
   ]
  },
  {
   "cell_type": "code",
   "execution_count": 4,
   "metadata": {},
   "outputs": [],
   "source": [
    "baseDir = os.getcwd()\n",
    "dataLocation = 'data/Master_Data.csv'\n",
    "dataFilePath = os.path.join(baseDir, dataLocation)"
   ]
  },
  {
   "cell_type": "code",
   "execution_count": 5,
   "metadata": {},
   "outputs": [],
   "source": [
    "roughData = pd.read_csv(dataFilePath, index_col=0)"
   ]
  },
  {
   "cell_type": "code",
   "execution_count": 6,
   "metadata": {},
   "outputs": [],
   "source": [
    "# Clean data by removing stocks that dont have history\n",
    "# to 2005\n",
    "masterData = roughData.dropna(axis=1)"
   ]
  },
  {
   "cell_type": "code",
   "execution_count": 7,
   "metadata": {},
   "outputs": [],
   "source": [
    "byStockAndYear = ch.ByStockAndYear(masterData)"
   ]
  },
  {
   "cell_type": "code",
   "execution_count": null,
   "metadata": {},
   "outputs": [],
   "source": [
    "byStockAndYear['MSFT'].keys()"
   ]
  },
  {
   "cell_type": "code",
   "execution_count": 8,
   "metadata": {},
   "outputs": [],
   "source": [
    "# Drop 2019 data\n",
    "for _, data in byStockAndYear.items():\n",
    "    del data[2019]"
   ]
  },
  {
   "cell_type": "markdown",
   "metadata": {},
   "source": [
    "# Create Rolling Correlation Data"
   ]
  },
  {
   "cell_type": "code",
   "execution_count": null,
   "metadata": {},
   "outputs": [],
   "source": [
    "rollCorr_60 = ch.RollCorr(byStockAndYear, period=60)"
   ]
  },
  {
   "cell_type": "code",
   "execution_count": 9,
   "metadata": {},
   "outputs": [],
   "source": [
    "import csv"
   ]
  },
  {
   "cell_type": "code",
   "execution_count": null,
   "metadata": {},
   "outputs": [],
   "source": [
    "# Save data to file.\n",
    "Saver(rollCorr_60)"
   ]
  },
  {
   "cell_type": "code",
   "execution_count": 10,
   "metadata": {},
   "outputs": [],
   "source": [
    "def Saver(dictex):\n",
    "    '''\n",
    "    Code to save rolling correlation data to a csv file.\n",
    "    from stack overflow: \n",
    "    https://stackoverflow.com/questions/50786266/writing-dictionary-of-dataframes-to-file\n",
    "    '''\n",
    "    for key, val in dictex.items():\n",
    "        val.to_csv(f'PrivateData/RollCorr_60/RollCorr60_{key}.csv')\n",
    "    with open('PrivateData/RollCorr_60/keys.txt', 'w') as f:\n",
    "        f.write(str(list(dictex.keys())))\n",
    "def Loader():\n",
    "    with open('PrivateData/RollCorr_60/keys.txt', 'r') as f:\n",
    "        keys = eval(f.read())\n",
    "    dictex = {}\n",
    "    for key in keys:\n",
    "        dictex[key] = pd.read_csv(f'PrivateData/RollCorr_60/RollCorr60_{key}.csv', index_col=[0,1])\n",
    "    return dictex"
   ]
  },
  {
   "cell_type": "code",
   "execution_count": 11,
   "metadata": {},
   "outputs": [],
   "source": [
    "# Load Roll Corrolation data after restarting kernal.\n",
    "rollCorr_60 = Loader()"
   ]
  },
  {
   "cell_type": "markdown",
   "metadata": {},
   "source": [
    "# Create Seasonal Correlation Data"
   ]
  },
  {
   "cell_type": "code",
   "execution_count": 12,
   "metadata": {},
   "outputs": [],
   "source": [
    "seasonalCorr_60 = ch.SeasonCorrTest(rollCorr_60, dropNum=10, n=0.75)"
   ]
  },
  {
   "cell_type": "markdown",
   "metadata": {},
   "source": [
    "# Filter Seasonal Correlation Data for days with High Correlation"
   ]
  },
  {
   "cell_type": "code",
   "execution_count": 15,
   "metadata": {},
   "outputs": [],
   "source": [
    "daysWithHighCorr_60 = ch.HighCorrDays(seasonalCorr_60)"
   ]
  },
  {
   "cell_type": "markdown",
   "metadata": {},
   "source": [
    "# Calculate % Change for periods of high correlation"
   ]
  },
  {
   "cell_type": "code",
   "execution_count": 16,
   "metadata": {},
   "outputs": [],
   "source": [
    "pctChangeResults_60 = ch.PctReturnForDays(daysWithHighCorr_60, byStockAndYear, periods=60)"
   ]
  },
  {
   "cell_type": "markdown",
   "metadata": {},
   "source": [
    "# Executive Summary"
   ]
  },
  {
   "cell_type": "code",
   "execution_count": 17,
   "metadata": {},
   "outputs": [],
   "source": [
    "execSummary_60 = ch.ExecSummaryCorr(pctChangeResults_60)"
   ]
  },
  {
   "cell_type": "code",
   "execution_count": null,
   "metadata": {},
   "outputs": [],
   "source": [
    "# to save out put to file:\n",
    "'''\n",
    "for stock, days in execSummary_60.items():\n",
    "    for day, data in days.items():\n",
    "        dayValue = int(day[3:])\n",
    "        if int(day[3:]) > 200:\n",
    "            if (data['NumPos'] > 10) or (data['NumPos'] < 4):\n",
    "                with open('PrivateData/ExecSummary_60.txt', 'a') as f:\n",
    "                    f.write(f'{stock} {day} start:{dayValue-60} \\n {data}\\n')\n",
    "                    f.write('\\n')\n",
    "'''            \n"
   ]
  },
  {
   "cell_type": "markdown",
   "metadata": {},
   "source": [
    "# Let's look for seasonality at the turn of the year"
   ]
  },
  {
   "cell_type": "code",
   "execution_count": 42,
   "metadata": {},
   "outputs": [
    {
     "ename": "TypeError",
     "evalue": "unhashable type: 'list'",
     "output_type": "error",
     "traceback": [
      "\u001b[1;31m---------------------------------------------------------------------------\u001b[0m",
      "\u001b[1;31mTypeError\u001b[0m                                 Traceback (most recent call last)",
      "\u001b[1;32m<ipython-input-42-75bd709386cc>\u001b[0m in \u001b[0;36m<module>\u001b[1;34m\u001b[0m\n\u001b[1;32m----> 1\u001b[1;33m \u001b[0mloopYear\u001b[0m \u001b[1;33m=\u001b[0m \u001b[0mch\u001b[0m\u001b[1;33m.\u001b[0m\u001b[0mLoopYear\u001b[0m\u001b[1;33m(\u001b[0m\u001b[0mbyStockAndYear\u001b[0m\u001b[1;33m[\u001b[0m\u001b[1;33m[\u001b[0m\u001b[1;34m'MSFT'\u001b[0m\u001b[1;33m,\u001b[0m \u001b[1;34m'AAPL'\u001b[0m\u001b[1;33m,\u001b[0m \u001b[1;34m'NKE'\u001b[0m\u001b[1;33m]\u001b[0m\u001b[1;33m]\u001b[0m\u001b[1;33m)\u001b[0m\u001b[1;33m\u001b[0m\u001b[1;33m\u001b[0m\u001b[0m\n\u001b[0m",
      "\u001b[1;31mTypeError\u001b[0m: unhashable type: 'list'"
     ]
    }
   ],
   "source": [
    "loopYear = ch.LoopYear(byStockAndYear)"
   ]
  },
  {
   "cell_type": "code",
   "execution_count": 26,
   "metadata": {},
   "outputs": [],
   "source": [
    "for k, v in loopYear.items():\n",
    "    v.dropna(inplace=True)"
   ]
  },
  {
   "cell_type": "code",
   "execution_count": null,
   "metadata": {},
   "outputs": [],
   "source": [
    "loopYear['MSFT'].loc[240:]"
   ]
  },
  {
   "cell_type": "code",
   "execution_count": 29,
   "metadata": {},
   "outputs": [],
   "source": [
    "loopRollCorr_60 = ch.RollCorr(loopYear, period=60)"
   ]
  },
  {
   "cell_type": "code",
   "execution_count": 31,
   "metadata": {},
   "outputs": [],
   "source": [
    "loopSeasonalCorr_60 = ch.SeasonCorrTest(loopRollCorr_60, dropNum=10, n=0.75)"
   ]
  },
  {
   "cell_type": "code",
   "execution_count": 32,
   "metadata": {},
   "outputs": [],
   "source": [
    "loopDaysWithHighCorr = ch.HighCorrDays(loopSeasonalCorr_60)"
   ]
  },
  {
   "cell_type": "code",
   "execution_count": 35,
   "metadata": {},
   "outputs": [
    {
     "data": {
      "text/plain": [
       "[244, 245]"
      ]
     },
     "execution_count": 35,
     "metadata": {},
     "output_type": "execute_result"
    }
   ],
   "source": [
    "loopDaysWithHighCorr['MSFT']"
   ]
  },
  {
   "cell_type": "code",
   "execution_count": 77,
   "metadata": {},
   "outputs": [],
   "source": [
    "def PctReturnForDays(data, pxData, periods):\n",
    "    request = {}\n",
    "    count=0\n",
    "    if count > 5:\n",
    "        return request\n",
    "    for stock, data in data.items():\n",
    "        requestValue = {}\n",
    "        for k, day in enumerate(data):\n",
    "            dataValue = {}\n",
    "            # px at the day at which the high correlation occured\n",
    "            end = pxData[stock].loc[day]\n",
    "            # px N days prior to end day\n",
    "            if (day-periods) == 0:\n",
    "                start = pxData[stock].loc[(day-periods+1)]\n",
    "                dataValue['StartDay'] = day-periods+1\n",
    "            elif day < periods:\n",
    "                remainder = periods-day\n",
    "                # find max of index for pxData.\n",
    "                endYearDay = max(pxData[stock].index)\n",
    "                i = endYearDay - remainder\n",
    "                start = pxData[stock].loc[i]\n",
    "                dataValue['StartDay'] = i\n",
    "            else:\n",
    "                start = pxData[stock].loc[(day-periods)]\n",
    "                dataValue['StartDay'] = day-periods\n",
    "            pctChange = (end-start) / start\n",
    "            dataValue['AvgReturn'] = round(pctChange.mean()*100, 2)\n",
    "            dataValue['ReturnDetails'] = round(pctChange*100, 2)\n",
    "            requestValue[f'Day{day}'] = dataValue\n",
    "        request[stock] = requestValue\n",
    "        count += 1\n",
    "    return request"
   ]
  },
  {
   "cell_type": "code",
   "execution_count": 62,
   "metadata": {},
   "outputs": [
    {
     "name": "stdout",
     "output_type": "stream",
     "text": [
      "236\n"
     ]
    }
   ],
   "source": [
    "day = 46\n",
    "period = 60\n",
    "toZero = 60-46\n",
    "finish = max(loopYear['NFLX'].index)\n",
    "i = finish-toZero\n",
    "print(i)"
   ]
  },
  {
   "cell_type": "code",
   "execution_count": 78,
   "metadata": {},
   "outputs": [],
   "source": [
    "loopPctChangeOfResults = PctReturnForDays(loopDaysWithHighCorr, loopYear, periods=60)"
   ]
  },
  {
   "cell_type": "code",
   "execution_count": null,
   "metadata": {},
   "outputs": [],
   "source": [
    "for day, details in loopPctChangeOfResults['NFLX'].items():\n",
    "    print(details['StartDay'])"
   ]
  },
  {
   "cell_type": "code",
   "execution_count": 83,
   "metadata": {},
   "outputs": [],
   "source": [
    "def ExecSummaryCorr(data, printupdate=False):\n",
    "    request = {}\n",
    "    status = 0\n",
    "    outOf = len(data.keys())\n",
    "    for stock, days in data.items():\n",
    "        if printupdate:\n",
    "            print(f'{status}/{outOf}', end=' | ')\n",
    "            status += 1\n",
    "        if len(days) >= 1:\n",
    "            requestValue = {}\n",
    "            for day, details in days.items():\n",
    "                value = {}\n",
    "                data = details['ReturnDetails']\n",
    "                posTest = data > 0\n",
    "                daysPos = data[posTest].count()\n",
    "                daysNeg = data.count() - daysPos\n",
    "                value['StartDay'] = details['StartDay']\n",
    "                value['TotalTrades'] = data.count()\n",
    "                value['NumPos'] = daysPos\n",
    "                value['NumNeg'] = daysNeg\n",
    "                value['AvgReturnOnPos'] = round(data[posTest].mean(), 2)\n",
    "                value['AvgReturnOnNeg'] = round(data[data < 0].mean(), 2)\n",
    "                requestValue[day] = value\n",
    "            request[stock] = requestValue\n",
    "    if printupdate:\n",
    "        print()\n",
    "    return request"
   ]
  },
  {
   "cell_type": "code",
   "execution_count": 84,
   "metadata": {},
   "outputs": [],
   "source": [
    "loopExecSummary = ExecSummaryCorr(loopPctChangeOfResults)"
   ]
  },
  {
   "cell_type": "code",
   "execution_count": 94,
   "metadata": {},
   "outputs": [
    {
     "name": "stdout",
     "output_type": "stream",
     "text": [
      "MSFT from: 184 to: Day244\n",
      "Total Trades:13Number Positive: 11\n",
      "MSFT from: 185 to: Day245\n",
      "Total Trades:13Number Positive: 11\n",
      "GOOG from: 154 to: Day214\n",
      "Total Trades:13Number Positive: 10\n",
      "GOOG from: 156 to: Day216\n",
      "Total Trades:13Number Positive: 10\n",
      "GOOG from: 157 to: Day217\n",
      "Total Trades:13Number Positive: 10\n",
      "GOOG from: 163 to: Day223\n",
      "Total Trades:13Number Positive: 10\n",
      "GOOG from: 168 to: Day228\n",
      "Total Trades:13Number Positive: 10\n",
      "GOOG from: 169 to: Day229\n",
      "Total Trades:13Number Positive: 10\n",
      "GOOG from: 170 to: Day230\n",
      "Total Trades:13Number Positive: 10\n",
      "GOOG from: 171 to: Day231\n",
      "Total Trades:13Number Positive: 10\n",
      "GOOG from: 174 to: Day234\n",
      "Total Trades:13Number Positive: 10\n",
      "GOOG from: 178 to: Day238\n",
      "Total Trades:13Number Positive: 10\n",
      "GOOG from: 179 to: Day239\n",
      "Total Trades:13Number Positive: 10\n",
      "GOOGL from: 154 to: Day214\n",
      "Total Trades:13Number Positive: 10\n",
      "GOOGL from: 156 to: Day216\n",
      "Total Trades:13Number Positive: 10\n",
      "GOOGL from: 157 to: Day217\n",
      "Total Trades:13Number Positive: 10\n",
      "GOOGL from: 168 to: Day228\n",
      "Total Trades:13Number Positive: 10\n",
      "GOOGL from: 169 to: Day229\n",
      "Total Trades:13Number Positive: 10\n",
      "GOOGL from: 170 to: Day230\n",
      "Total Trades:13Number Positive: 10\n",
      "GOOGL from: 171 to: Day231\n",
      "Total Trades:13Number Positive: 10\n",
      "GOOGL from: 178 to: Day238\n",
      "Total Trades:13Number Positive: 10\n",
      "GOOGL from: 179 to: Day239\n",
      "Total Trades:13Number Positive: 10\n",
      "NFLX from: 236 to: Day46\n",
      "Total Trades:13Number Positive: 10\n",
      "NFLX from: 237 to: Day47\n",
      "Total Trades:13Number Positive: 10\n",
      "NFLX from: 238 to: Day48\n",
      "Total Trades:13Number Positive: 10\n",
      "NFLX from: 239 to: Day49\n",
      "Total Trades:13Number Positive: 11\n",
      "NFLX from: 240 to: Day50\n",
      "Total Trades:13Number Positive: 11\n",
      "NFLX from: 161 to: Day221\n",
      "Total Trades:13Number Positive: 10\n",
      "NFLX from: 162 to: Day222\n",
      "Total Trades:13Number Positive: 10\n",
      "NFLX from: 163 to: Day223\n",
      "Total Trades:13Number Positive: 10\n",
      "NKE from: 161 to: Day221\n",
      "Total Trades:13Number Positive: 10\n",
      "NKE from: 163 to: Day223\n",
      "Total Trades:13Number Positive: 11\n",
      "NKE from: 164 to: Day224\n",
      "Total Trades:13Number Positive: 10\n",
      "NKE from: 166 to: Day226\n",
      "Total Trades:13Number Positive: 10\n",
      "NKE from: 167 to: Day227\n",
      "Total Trades:13Number Positive: 10\n",
      "NKE from: 172 to: Day232\n",
      "Total Trades:13Number Positive: 10\n",
      "NKE from: 173 to: Day233\n",
      "Total Trades:13Number Positive: 10\n",
      "NKE from: 174 to: Day234\n",
      "Total Trades:13Number Positive: 10\n",
      "NKE from: 175 to: Day235\n",
      "Total Trades:13Number Positive: 10\n",
      "NKE from: 176 to: Day236\n",
      "Total Trades:13Number Positive: 10\n",
      "BKNG from: 248 to: Day58\n",
      "Total Trades:13Number Positive: 12\n",
      "BKNG from: 249 to: Day59\n",
      "Total Trades:13Number Positive: 11\n",
      "BKNG from: 3 to: Day63\n",
      "Total Trades:13Number Positive: 13\n",
      "BKNG from: 5 to: Day65\n",
      "Total Trades:13Number Positive: 13\n",
      "AXP from: 191 to: Day1\n",
      "Total Trades:13Number Positive: 10\n",
      "AXP from: 192 to: Day2\n",
      "Total Trades:13Number Positive: 10\n",
      "AXP from: 193 to: Day3\n",
      "Total Trades:13Number Positive: 10\n",
      "AXP from: 190 to: Day250\n",
      "Total Trades:13Number Positive: 10\n",
      "BLK from: 156 to: Day216\n",
      "Total Trades:13Number Positive: 10\n",
      "BLK from: 157 to: Day217\n",
      "Total Trades:13Number Positive: 10\n",
      "BLK from: 158 to: Day218\n",
      "Total Trades:13Number Positive: 11\n",
      "VRTX from: 230 to: Day40\n",
      "Total Trades:13Number Positive: 10\n",
      "VRTX from: 231 to: Day41\n",
      "Total Trades:13Number Positive: 10\n",
      "PAYX from: 153 to: Day213\n",
      "Total Trades:13Number Positive: 10\n",
      "EFX from: 187 to: Day247\n",
      "Total Trades:13Number Positive: 10\n",
      "EFX from: 188 to: Day248\n",
      "Total Trades:13Number Positive: 10\n",
      "EFX from: 189 to: Day249\n",
      "Total Trades:13Number Positive: 10\n",
      "JKHY from: 153 to: Day213\n",
      "Total Trades:13Number Positive: 10\n",
      "JKHY from: 154 to: Day214\n",
      "Total Trades:13Number Positive: 10\n",
      "JKHY from: 155 to: Day215\n",
      "Total Trades:13Number Positive: 10\n",
      "JKHY from: 156 to: Day216\n",
      "Total Trades:13Number Positive: 10\n",
      "JKHY from: 157 to: Day217\n",
      "Total Trades:13Number Positive: 10\n",
      "JKHY from: 158 to: Day218\n",
      "Total Trades:13Number Positive: 11\n",
      "JKHY from: 159 to: Day219\n",
      "Total Trades:13Number Positive: 11\n",
      "SEE from: 191 to: Day1\n",
      "Total Trades:13Number Positive: 10\n",
      "SEE from: 192 to: Day2\n",
      "Total Trades:13Number Positive: 10\n",
      "SEE from: 193 to: Day3\n",
      "Total Trades:13Number Positive: 10\n",
      "SEE from: 194 to: Day4\n",
      "Total Trades:13Number Positive: 10\n",
      "SEE from: 189 to: Day249\n",
      "Total Trades:13Number Positive: 10\n",
      "SEE from: 190 to: Day250\n",
      "Total Trades:13Number Positive: 10\n",
      "HP from: 189 to: Day249\n",
      "Total Trades:13Number Positive: 11\n",
      "HP from: 190 to: Day250\n",
      "Total Trades:13Number Positive: 11\n"
     ]
    },
    {
     "data": {
      "text/plain": [
       "\"            \\nfor stock, days in loopExecSummary.items():\\n    for day, data in days.items():\\n        dayValue = int(day[3:])\\n        if (int(day[3:]) > 245) or :\\n            if (data['NumPos'] > 10) or (data['NumPos'] < 4):\\n                with open('PrivateData/ExecSummary_60.txt', 'a') as f:\\n                    f.write(f'{stock} {day} start:{dayValue-60} \\n {data}\\n')\\n                    f.write('\\n')\\n\""
      ]
     },
     "execution_count": 94,
     "metadata": {},
     "output_type": "execute_result"
    }
   ],
   "source": [
    "# Save to txt file\n",
    "for stock, days in loopExecSummary.items():\n",
    "    for day, data in days.items():\n",
    "        if (data['NumPos'] >= 10) or (data['NumPos'] <= 4):\n",
    "            print(f'{stock} from: {data[\"StartDay\"]} to: {day}')\n",
    "            print(f'Total Trades:{data[\"TotalTrades\"]}', end='')\n",
    "            print(f'Number Positive: {data[\"NumPos\"]}')\n",
    "'''            \n",
    "for stock, days in loopExecSummary.items():\n",
    "    for day, data in days.items():\n",
    "        dayValue = int(day[3:])\n",
    "        if (int(day[3:]) > 245) or :\n",
    "            if (data['NumPos'] > 10) or (data['NumPos'] < 4):\n",
    "                with open('PrivateData/ExecSummary_60.txt', 'a') as f:\n",
    "                    f.write(f'{stock} {day} start:{dayValue-60} \\n {data}\\n')\n",
    "                    f.write('\\n')\n",
    "'''"
   ]
  },
  {
   "cell_type": "code",
   "execution_count": null,
   "metadata": {},
   "outputs": [],
   "source": [
    "# prints days that are within the requested range\n",
    "\n",
    "for stock, days in loopExecSummary.items():\n",
    "    for day, data in days.items():\n",
    "        dayValue = int(day[3:])\n",
    "        if (dayValue > 230) or (dayValue < 100):\n",
    "            print(stock, day)\n",
    "            print(data)"
   ]
  },
  {
   "cell_type": "code",
   "execution_count": null,
   "metadata": {},
   "outputs": [],
   "source": []
  }
 ],
 "metadata": {
  "kernelspec": {
   "display_name": "Python 3",
   "language": "python",
   "name": "python3"
  },
  "language_info": {
   "codemirror_mode": {
    "name": "ipython",
    "version": 3
   },
   "file_extension": ".py",
   "mimetype": "text/x-python",
   "name": "python",
   "nbconvert_exporter": "python",
   "pygments_lexer": "ipython3",
   "version": "3.7.3"
  }
 },
 "nbformat": 4,
 "nbformat_minor": 4
}
