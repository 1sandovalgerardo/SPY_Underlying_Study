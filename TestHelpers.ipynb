{
 "cells": [
  {
   "cell_type": "code",
   "execution_count": 1,
   "metadata": {},
   "outputs": [],
   "source": [
    "import os\n",
    "baseDir = os.getcwd()\n",
    "dataLocation = 'data/short_clean_closepx.csv'\n",
    "dataFilePath = os.path.join(baseDir, dataLocation)"
   ]
  },
  {
   "cell_type": "code",
   "execution_count": 2,
   "metadata": {},
   "outputs": [],
   "source": [
    "import pandas as pd\n",
    "import numpy as np\n",
    "import matplotlib.pyplot as plt"
   ]
  },
  {
   "cell_type": "code",
   "execution_count": 3,
   "metadata": {},
   "outputs": [],
   "source": [
    "masterData = pd.read_csv(dataFilePath, index_col=0)"
   ]
  },
  {
   "cell_type": "code",
   "execution_count": 4,
   "metadata": {},
   "outputs": [],
   "source": [
    "def YearsContained(data):\n",
    "    \"\"\"\n",
    "    Purpose: Return the years found in the data.\n",
    "    Input: pd.DataFrame where the index values are datetime.\n",
    "    Output: a list containing the years found in the index.\n",
    "    \"\"\"\n",
    "    #years = []\n",
    "    if (type(data.index) != pd.core.indexes.datetimes.DatetimeIndex):\n",
    "        data.index = pd.to_datetime(data.index)\n",
    "        return YearsContained(data)\n",
    "    else:\n",
    "        return sorted(list(set(data.index.year)))"
   ]
  },
  {
   "cell_type": "code",
   "execution_count": 5,
   "metadata": {},
   "outputs": [],
   "source": [
    "def ByYear(data, year):\n",
    "    '''\n",
    "    Input:\n",
    "      pd.DataFrame or list/tuple. If list/tuple, values must be\n",
    "      type pd.DataFrame as well\n",
    "    \n",
    "    If list or tuple is passed in for year, data must be type int. \n",
    "    The return item will be a dictionary where the keys are the str of\n",
    "    the years that where input.\n",
    "    \n",
    "    If an int is passed in for year, a data will be returned filtered by \n",
    "    the year.\n",
    "    '''\n",
    "    if type(data.index) != pd.core.indexes.datetimes.DatetimeIndex:\n",
    "        try:\n",
    "            data.index = pd.to_datetime(data.index)\n",
    "        except Exception as exception_object:\n",
    "            print('Can not conver index type to Datetime', exception_object)\n",
    "    if (type(year) == list) or (type(year) == tuple):\n",
    "        request = {}\n",
    "        for n in year:\n",
    "            assert type(n) == int, 'Year must contain type int.'\n",
    "            cut = ByYear(data, n)\n",
    "            # replaces timedate index with int range.\n",
    "            cut.index = range(1,(len(cut)+1))\n",
    "            request[n] = cut\n",
    "        return request\n",
    "    else:\n",
    "        choose = data.index.year == year\n",
    "        return data[data.index.year==year]"
   ]
  },
  {
   "cell_type": "code",
   "execution_count": 6,
   "metadata": {},
   "outputs": [],
   "source": [
    "def ByStockAndYear(data):\n",
    "    '''\n",
    "    Purpose: take dataframe of stock's data and return it \n",
    "        broken down by stock and year.\n",
    "    Input: pd.DataFrame \n",
    "    Returns: Dictionary where keys=tickers and values=DataFrame.\n",
    "        Within the Values, the columns are calendar years and \n",
    "        the index are the number day in the year.\n",
    "    '''\n",
    "    # if data for one stock is entered\n",
    "    if type(data.index) != pd.core.indexes.datetimes.DatetimeIndex:\n",
    "        data.index = pd.to_datetime(data.index)\n",
    "    if type(data) == pd.Series:\n",
    "        request = ByYear(data, YearsContained(data))\n",
    "        request = pd.DataFrame(request)\n",
    "        return ByYear(data, YearsContained(data))\n",
    "    \n",
    "    # if data for multiple stocks is entered\n",
    "    else:\n",
    "        tickers = data.columns\n",
    "        request = {}\n",
    "        for ticker in tickers:\n",
    "            getStockYears = ByYear(data[ticker], YearsContained(data))\n",
    "            #getStockYears = pd.DataFrame(getStockYears)\n",
    "            request[ticker] = pd.DataFrame(getStockYears)\n",
    "        return request"
   ]
  },
  {
   "cell_type": "code",
   "execution_count": 7,
   "metadata": {},
   "outputs": [],
   "source": [
    "def RollCorr(data, period):\n",
    "    '''\n",
    "    input: data=dictionary containing dataframes, period=window to use for rolling periods.\n",
    "           designed for data to = ByStockAndYear output.\n",
    "    output: dictionary. \n",
    "            Key=ticker symbol. \n",
    "            Value=pd.DataFrame with multilevel index,\n",
    "                  value columns=calendar years, \n",
    "                  value index=outside is the day of the year the corr was calculated for,\n",
    "                    insidd=calendar year\n",
    "    '''\n",
    "    request = {}\n",
    "    for stock in data:\n",
    "        request[stock] = data[stock].rolling(window=period).corr().dropna()\n",
    "    return request"
   ]
  },
  {
   "cell_type": "code",
   "execution_count": 8,
   "metadata": {},
   "outputs": [],
   "source": [
    "def SeasonCorrTest(dataDict, dropnum, n):\n",
    "    '''\n",
    "    Input: pandas correlation matrix, designed to take RollCorr output.\n",
    "        dropNum: the number used to determine how many non NaN must be\n",
    "        present in a column for the column to be dropped.\n",
    "        n: the desired correlation level minimum\n",
    "    Output: DICTIONARY whose keys are the ticker symbols.\n",
    "        Values are DataFrame Correlation Matrixs that contain \n",
    "        True values if the dropNum and correlation test level\n",
    "        is met (n).\n",
    "    '''\n",
    "    request = {}\n",
    "    for stock, df in dataDict.items():\n",
    "        test = (((df >= n) | (df <= -n)) & (df < 0.99))\n",
    "        request[stock] = df[test].unstack(level=0).dropna(axis=1, thresh=dropnum)\\\n",
    "                            .unstack().dropna()\n",
    "        #print(f'{stock} completed', end='|')\n",
    "    return request"
   ]
  },
  {
   "cell_type": "code",
   "execution_count": 9,
   "metadata": {},
   "outputs": [],
   "source": [
    "def HighCorrDays(data):\n",
    "    '''\n",
    "    Input: returned item from func: SeasonCorrTest()\n",
    "    Output: dictionary. Key=stock, value= pd.series of the days\n",
    "        that had high correlation. High correlation was established in \n",
    "        SeasonCorrTest()\n",
    "    '''\n",
    "    request = {}\n",
    "    for stock in data:\n",
    "        days = []\n",
    "        for n in range(len(data[stock].index)):\n",
    "            a, b, c = data[stock].index[n]\n",
    "            days.append(b)\n",
    "        days = list(set(days))\n",
    "        days.sort()\n",
    "        request[stock] = days\n",
    "    return request"
   ]
  },
  {
   "cell_type": "code",
   "execution_count": 10,
   "metadata": {},
   "outputs": [],
   "source": [
    "def PctReturnForDays(data, pxData, periods):\n",
    "    '''\n",
    "    Purpose: to extract 2 items from days that had high correlation.\n",
    "             1: avg return for the period that generated a high corr.\n",
    "             2: return details by calendar year for period of high corr.\n",
    "    input: data = output from func HighCorrDays,\n",
    "           pxData=price data from which to pull the %returns,\n",
    "                  preferably from output of func byStockAndYear.\n",
    "           periods=rolling time frame used in data.\n",
    "    return: 3 level dictionary with the average return for the rolling\n",
    "                period and all the percent returns by year for the period.\n",
    "            level 1 key = 'ticker'\n",
    "            level 2 key = 'DayN' where N=int() of the day analyzed\n",
    "            level 3 key = 2 keys: key1='AvgReturn', key2='ReturnDetails'\n",
    "    '''\n",
    "    request = {}\n",
    "    for stock, data in data.items():\n",
    "        requestValue = {}\n",
    "        for day in data:\n",
    "            dataValue = {}\n",
    "            # px at the day at which the high correlation occured\n",
    "            end = pxData[stock].loc[day]\n",
    "            # px N days prior to end day\n",
    "            start = pxData[stock].loc[(day-periods)]\n",
    "            pctChange = (end-start) / start\n",
    "            dataValue['AvgReturn'] = round(pctChange.mean()*100, 2)\n",
    "            dataValue['ReturnDetails'] = round(pctChange*100, 2)\n",
    "            requestValue[f'Day{day}'] = dataValue\n",
    "        request[stock] = requestValue\n",
    "    return request"
   ]
  },
  {
   "cell_type": "code",
   "execution_count": 33,
   "metadata": {},
   "outputs": [],
   "source": [
    "def ExecSummaryCorr(data, printupdate=False):\n",
    "    '''\n",
    "    input: data = returned item from func PctReturnForDays\n",
    "    output: 3 level dictionary\n",
    "        level 1 keys = ticker\n",
    "        level 1 value = dict\n",
    "        level 2 keys = 'DayN' where the day with results\n",
    "        level 2 value = dict\n",
    "        level 3 keys = 'TotalTrades', 'NumPos', 'NumNeg',\n",
    "                       'AvgReturnOnPos', 'AvgReturnOnNeg'\n",
    "        level 3 value = results\n",
    "    kwargs: printupdate = will print 'load' status\n",
    "    '''\n",
    "    request = {}\n",
    "    status = 0\n",
    "    outOf = len(data.keys())\n",
    "    for stock, days in data.items():\n",
    "        if printupdate:\n",
    "            print(f'{status}/{outOf}', end=' | ')\n",
    "            status += 1\n",
    "        requestValue = {}\n",
    "        for day, details in days.items():\n",
    "            value = {}\n",
    "            data = details['ReturnDetails']\n",
    "            posTest = data > 0\n",
    "            daysPos = data[posTest].count()\n",
    "            daysNeg = data.count() - daysPos\n",
    "            value['TotalTrades'] = data.count()\n",
    "            value['NumPos'] = daysPos\n",
    "            value['NumNeg'] = daysNeg\n",
    "            value['AvgReturnOnPos'] = round(data[posTest].mean(),2)\n",
    "            value['AvgReturnOnNeg'] = round(data[data<0].mean(),2)\n",
    "            requestValue[day] = value\n",
    "        request[stock] = requestValue\n",
    "    if printupdate == True:\n",
    "        print()\n",
    "    return request"
   ]
  },
  {
   "cell_type": "code",
   "execution_count": 11,
   "metadata": {},
   "outputs": [],
   "source": [
    "a = ByStockAndYear(masterData)\n",
    "for _,data in a.items():\n",
    "    del data[2019]\n",
    "b = RollCorr(a, period=60)\n",
    "c = SeasonCorrTest(b, dropnum=10, n=0.75)\n",
    "d = HighCorrDays(c)\n",
    "e = PctReturnForDays(d, a, periods=60)"
   ]
  },
  {
   "cell_type": "code",
   "execution_count": 37,
   "metadata": {},
   "outputs": [],
   "source": [
    "f = ExecSummaryCorr(e)"
   ]
  },
  {
   "cell_type": "code",
   "execution_count": 32,
   "metadata": {},
   "outputs": [
    {
     "data": {
      "text/plain": [
       "{'Day112': {'TotalTrades': 14,\n",
       "  'NumPos': 8,\n",
       "  'NumNeg': 6,\n",
       "  'AvgReturnOnPos': 12.65,\n",
       "  'AvgReturnOnNeg': -10.21},\n",
       " 'Day113': {'TotalTrades': 14,\n",
       "  'NumPos': 8,\n",
       "  'NumNeg': 6,\n",
       "  'AvgReturnOnPos': 12.89,\n",
       "  'AvgReturnOnNeg': -9.07},\n",
       " 'Day115': {'TotalTrades': 14,\n",
       "  'NumPos': 8,\n",
       "  'NumNeg': 6,\n",
       "  'AvgReturnOnPos': 11.62,\n",
       "  'AvgReturnOnNeg': -8.18},\n",
       " 'Day116': {'TotalTrades': 14,\n",
       "  'NumPos': 8,\n",
       "  'NumNeg': 6,\n",
       "  'AvgReturnOnPos': 12.56,\n",
       "  'AvgReturnOnNeg': -7.83},\n",
       " 'Day117': {'TotalTrades': 14,\n",
       "  'NumPos': 8,\n",
       "  'NumNeg': 6,\n",
       "  'AvgReturnOnPos': 13.07,\n",
       "  'AvgReturnOnNeg': -8.21},\n",
       " 'Day244': {'TotalTrades': 14,\n",
       "  'NumPos': 11,\n",
       "  'NumNeg': 3,\n",
       "  'AvgReturnOnPos': 11.92,\n",
       "  'AvgReturnOnNeg': -14.12},\n",
       " 'Day245': {'TotalTrades': 14,\n",
       "  'NumPos': 11,\n",
       "  'NumNeg': 3,\n",
       "  'AvgReturnOnPos': 12.8,\n",
       "  'AvgReturnOnNeg': -15.31}}"
      ]
     },
     "execution_count": 32,
     "metadata": {},
     "output_type": "execute_result"
    }
   ],
   "source": [
    "f['MSFT']"
   ]
  },
  {
   "cell_type": "code",
   "execution_count": null,
   "metadata": {},
   "outputs": [],
   "source": []
  }
 ],
 "metadata": {
  "kernelspec": {
   "display_name": "Python 3",
   "language": "python",
   "name": "python3"
  },
  "language_info": {
   "codemirror_mode": {
    "name": "ipython",
    "version": 3
   },
   "file_extension": ".py",
   "mimetype": "text/x-python",
   "name": "python",
   "nbconvert_exporter": "python",
   "pygments_lexer": "ipython3",
   "version": "3.7.3"
  }
 },
 "nbformat": 4,
 "nbformat_minor": 2
}
