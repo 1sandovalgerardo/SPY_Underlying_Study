{
 "cells": [
  {
   "cell_type": "code",
   "execution_count": 1,
   "metadata": {},
   "outputs": [],
   "source": [
    "import os\n",
    "import pandas as pd\n",
    "import numpy as np"
   ]
  },
  {
   "cell_type": "code",
   "execution_count": 2,
   "metadata": {},
   "outputs": [],
   "source": [
    "import CorrHelpers as ch"
   ]
  },
  {
   "cell_type": "code",
   "execution_count": 3,
   "metadata": {},
   "outputs": [],
   "source": [
    "baseDir = os.getcwd()\n",
    "dataLocation = 'data/Master_Data.csv'\n",
    "dataFilePath = os.path.join(baseDir, dataLocation)"
   ]
  },
  {
   "cell_type": "code",
   "execution_count": 4,
   "metadata": {},
   "outputs": [],
   "source": [
    "roughData = pd.read_csv(dataFilePath, index_col=0)"
   ]
  },
  {
   "cell_type": "code",
   "execution_count": 5,
   "metadata": {},
   "outputs": [],
   "source": [
    "# Clean data by removing stocks that dont have history\n",
    "# to 2005\n",
    "masterData = roughData.dropna(axis=1)"
   ]
  },
  {
   "cell_type": "code",
   "execution_count": 6,
   "metadata": {},
   "outputs": [],
   "source": [
    "byStockAndYear = ch.ByStockAndYear(masterData)"
   ]
  },
  {
   "cell_type": "code",
   "execution_count": null,
   "metadata": {},
   "outputs": [],
   "source": [
    "byStockAndYear['MSFT'].keys()"
   ]
  },
  {
   "cell_type": "code",
   "execution_count": 7,
   "metadata": {},
   "outputs": [],
   "source": [
    "# Drop 2019 data\n",
    "for _, data in byStockAndYear.items():\n",
    "    del data[2019]"
   ]
  },
  {
   "cell_type": "markdown",
   "metadata": {},
   "source": [
    "# Create Rolling Correlation Data"
   ]
  },
  {
   "cell_type": "code",
   "execution_count": null,
   "metadata": {},
   "outputs": [],
   "source": [
    "rollCorr_60 = ch.RollCorr(byStockAndYear, period=60)"
   ]
  },
  {
   "cell_type": "code",
   "execution_count": null,
   "metadata": {},
   "outputs": [],
   "source": [
    "import csv"
   ]
  },
  {
   "cell_type": "code",
   "execution_count": null,
   "metadata": {},
   "outputs": [],
   "source": [
    "# Save data to file.\n",
    "Saver(rollCorr_60)"
   ]
  },
  {
   "cell_type": "code",
   "execution_count": 8,
   "metadata": {},
   "outputs": [],
   "source": [
    "def Saver(dictex):\n",
    "    '''\n",
    "    Code to save rolling correlation data to a csv file.\n",
    "    from stack overflow: \n",
    "    https://stackoverflow.com/questions/50786266/writing-dictionary-of-dataframes-to-file\n",
    "    '''\n",
    "    for key, val in dictex.items():\n",
    "        val.to_csv(f'PrivateData/RollCorr_60/RollCorr60_{key}.csv')\n",
    "    with open('PrivateData/RollCorr_60/keys.txt', 'w') as f:\n",
    "        f.write(str(list(dictex.keys())))\n",
    "def Loader():\n",
    "    with open('PrivateData/RollCorr_60/keys.txt', 'r') as f:\n",
    "        keys = eval(f.read())\n",
    "    dictex = {}\n",
    "    for key in keys:\n",
    "        dictex[key] = pd.read_csv(f'PrivateData/RollCorr_60/RollCorr60_{key}.csv', index_col=[0,1])\n",
    "    return dictex"
   ]
  },
  {
   "cell_type": "code",
   "execution_count": 9,
   "metadata": {},
   "outputs": [],
   "source": [
    "# Load Roll Corrolation data after restarting kernal.\n",
    "rollCorr_60 = Loader()"
   ]
  },
  {
   "cell_type": "code",
   "execution_count": null,
   "metadata": {},
   "outputs": [],
   "source": [
    "rollCorr_60['MSFT']"
   ]
  },
  {
   "cell_type": "markdown",
   "metadata": {},
   "source": [
    "# Create Seasonal Correlation Data"
   ]
  },
  {
   "cell_type": "code",
   "execution_count": 10,
   "metadata": {},
   "outputs": [],
   "source": [
    "seasonalCorr_60 = ch.SeasonCorrTest(rollCorr_60, dropNum=10, n=0.75)"
   ]
  },
  {
   "cell_type": "markdown",
   "metadata": {},
   "source": [
    "# Filter Seasonal Correlation Data for days with High Correlation"
   ]
  },
  {
   "cell_type": "code",
   "execution_count": 11,
   "metadata": {},
   "outputs": [],
   "source": [
    "daysWithHighCorr_60 = ch.HighCorrDays(seasonalCorr_60)"
   ]
  },
  {
   "cell_type": "markdown",
   "metadata": {},
   "source": [
    "# Calculate % Change for periods of high correlation"
   ]
  },
  {
   "cell_type": "code",
   "execution_count": 12,
   "metadata": {},
   "outputs": [],
   "source": [
    "pctChangeResults_60 = ch.PctReturnForDays(daysWithHighCorr_60, byStockAndYear, periods=60)"
   ]
  },
  {
   "cell_type": "markdown",
   "metadata": {},
   "source": [
    "# Executive Summary"
   ]
  },
  {
   "cell_type": "code",
   "execution_count": 13,
   "metadata": {},
   "outputs": [],
   "source": [
    "execSummary_60 = ch.ExecSummaryCorr(pctChangeResults_60)"
   ]
  },
  {
   "cell_type": "code",
   "execution_count": null,
   "metadata": {},
   "outputs": [],
   "source": [
    "for stock, days in execSummary_60.items():\n",
    "    for day, data in days.items():\n",
    "        dayValue = int(day[3:])\n",
    "        if int(day[3:]) > 200:\n",
    "            if (data['NumPos'] > 10) or (data['NumPos'] < 4):\n",
    "                with open('PrivateData/ExecSummary_60.txt', 'a') as f:\n",
    "                    f.write(f'{stock} {day} start:{dayValue-60} \\n {data}\\n')\n",
    "                    f.write('\\n')\n",
    "                    \n"
   ]
  },
  {
   "cell_type": "markdown",
   "metadata": {},
   "source": [
    "# Let's look for seasonality at the turn of the year"
   ]
  },
  {
   "cell_type": "code",
   "execution_count": 14,
   "metadata": {},
   "outputs": [],
   "source": [
    "loopYear = ch.LoopYear(byStockAndYear)"
   ]
  },
  {
   "cell_type": "code",
   "execution_count": 70,
   "metadata": {},
   "outputs": [
    {
     "name": "stdout",
     "output_type": "stream",
     "text": [
      "250    26.39\n",
      "251    26.27\n",
      "252    26.15\n",
      "253      NaN\n",
      "1      26.84\n",
      "2      26.97\n",
      "3      26.99\n",
      "4      26.91\n",
      "5      26.86\n",
      "6      27.00\n",
      "7      27.29\n",
      "8      27.14\n",
      "9      27.19\n",
      "10     26.99\n",
      "11     26.83\n",
      "12     27.02\n",
      "13     26.41\n",
      "14     26.35\n",
      "15     26.28\n",
      "16     26.40\n",
      "17     26.50\n",
      "18     27.79\n",
      "19     28.00\n",
      "20     28.15\n",
      "21     28.04\n",
      "22     27.68\n",
      "23     27.54\n",
      "24     27.17\n",
      "25     26.94\n",
      "26     26.91\n",
      "       ...  \n",
      "41     26.97\n",
      "42     26.93\n",
      "43     26.91\n",
      "44     27.06\n",
      "45     27.25\n",
      "46     27.00\n",
      "47     27.17\n",
      "48     27.11\n",
      "49     27.23\n",
      "50     27.36\n",
      "51     27.27\n",
      "52     27.50\n",
      "53     27.89\n",
      "54     27.74\n",
      "55     27.15\n",
      "56     26.85\n",
      "57     27.01\n",
      "58     27.01\n",
      "59     26.90\n",
      "60     27.02\n",
      "61     27.23\n",
      "62     27.21\n",
      "63     27.56\n",
      "64     27.64\n",
      "65     27.74\n",
      "66     27.56\n",
      "67     27.25\n",
      "68     27.29\n",
      "69     27.13\n",
      "70     27.20\n",
      "Name: 2005/2006, Length: 74, dtype: float64\n"
     ]
    }
   ],
   "source": [
    "print(loopYear['MSFT']['2005/2006'].loc[250:])"
   ]
  },
  {
   "cell_type": "code",
   "execution_count": 73,
   "metadata": {},
   "outputs": [
    {
     "name": "stdout",
     "output_type": "stream",
     "text": [
      "250    26.39\n",
      "251    26.27\n",
      "252    26.15\n",
      "253      NaN\n",
      "1      26.84\n",
      "2      26.97\n",
      "3      26.99\n",
      "4      26.91\n",
      "5      26.86\n",
      "6      27.00\n",
      "7      27.29\n",
      "8      27.14\n",
      "9      27.19\n",
      "10     26.99\n",
      "11     26.83\n",
      "12     27.02\n",
      "13     26.41\n",
      "14     26.35\n",
      "15     26.28\n",
      "16     26.40\n",
      "17     26.50\n",
      "18     27.79\n",
      "19     28.00\n",
      "20     28.15\n",
      "21     28.04\n",
      "22     27.68\n",
      "23     27.54\n",
      "24     27.17\n",
      "25     26.94\n",
      "26     26.91\n",
      "       ...  \n",
      "41     26.97\n",
      "42     26.93\n",
      "43     26.91\n",
      "44     27.06\n",
      "45     27.25\n",
      "46     27.00\n",
      "47     27.17\n",
      "48     27.11\n",
      "49     27.23\n",
      "50     27.36\n",
      "51     27.27\n",
      "52     27.50\n",
      "53     27.89\n",
      "54     27.74\n",
      "55     27.15\n",
      "56     26.85\n",
      "57     27.01\n",
      "58     27.01\n",
      "59     26.90\n",
      "60     27.02\n",
      "61     27.23\n",
      "62     27.21\n",
      "63     27.56\n",
      "64     27.64\n",
      "65     27.74\n",
      "66     27.56\n",
      "67     27.25\n",
      "68     27.29\n",
      "69     27.13\n",
      "70     27.20\n",
      "Name: 2005/2006, Length: 74, dtype: float64\n"
     ]
    }
   ],
   "source": [
    "loopYear['MSFT'].fillna(method='ffill')\n",
    "print(loopYear['MSFT']['2005/2006'].loc[250:])"
   ]
  },
  {
   "cell_type": "code",
   "execution_count": 17,
   "metadata": {},
   "outputs": [],
   "source": [
    "loopRollCorr_60 = ch.RollCorr(loopYear, period=60)"
   ]
  },
  {
   "cell_type": "code",
   "execution_count": 68,
   "metadata": {},
   "outputs": [
    {
     "data": {
      "text/html": [
       "<div>\n",
       "<style scoped>\n",
       "    .dataframe tbody tr th:only-of-type {\n",
       "        vertical-align: middle;\n",
       "    }\n",
       "\n",
       "    .dataframe tbody tr th {\n",
       "        vertical-align: top;\n",
       "    }\n",
       "\n",
       "    .dataframe thead th {\n",
       "        text-align: right;\n",
       "    }\n",
       "</style>\n",
       "<table border=\"1\" class=\"dataframe\">\n",
       "  <thead>\n",
       "    <tr style=\"text-align: right;\">\n",
       "      <th></th>\n",
       "      <th>2005/2006</th>\n",
       "      <th>2006/2007</th>\n",
       "      <th>2007/2008</th>\n",
       "      <th>2008/2009</th>\n",
       "      <th>2009/2010</th>\n",
       "      <th>2010/2011</th>\n",
       "      <th>2011/2012</th>\n",
       "      <th>2012/2013</th>\n",
       "      <th>2013/2014</th>\n",
       "      <th>2014/2015</th>\n",
       "      <th>2015/2016</th>\n",
       "      <th>2016/2017</th>\n",
       "      <th>2017/2018</th>\n",
       "    </tr>\n",
       "  </thead>\n",
       "  <tbody>\n",
       "    <tr>\n",
       "      <th>2005/2006</th>\n",
       "      <td>1.000000</td>\n",
       "      <td>-0.058488</td>\n",
       "      <td>0.069501</td>\n",
       "      <td>-0.157185</td>\n",
       "      <td>-0.049625</td>\n",
       "      <td>-0.201875</td>\n",
       "      <td>0.075083</td>\n",
       "      <td>0.153873</td>\n",
       "      <td>0.149961</td>\n",
       "      <td>-0.484976</td>\n",
       "      <td>0.435374</td>\n",
       "      <td>0.207063</td>\n",
       "      <td>0.341762</td>\n",
       "    </tr>\n",
       "    <tr>\n",
       "      <th>2006/2007</th>\n",
       "      <td>-0.058488</td>\n",
       "      <td>1.000000</td>\n",
       "      <td>0.785894</td>\n",
       "      <td>0.588046</td>\n",
       "      <td>0.273656</td>\n",
       "      <td>0.891815</td>\n",
       "      <td>-0.847255</td>\n",
       "      <td>-0.648865</td>\n",
       "      <td>-0.713678</td>\n",
       "      <td>0.580910</td>\n",
       "      <td>-0.230213</td>\n",
       "      <td>-0.647457</td>\n",
       "      <td>-0.438129</td>\n",
       "    </tr>\n",
       "    <tr>\n",
       "      <th>2007/2008</th>\n",
       "      <td>0.069501</td>\n",
       "      <td>0.785894</td>\n",
       "      <td>1.000000</td>\n",
       "      <td>0.631749</td>\n",
       "      <td>0.670983</td>\n",
       "      <td>0.736611</td>\n",
       "      <td>-0.907902</td>\n",
       "      <td>-0.705516</td>\n",
       "      <td>-0.604888</td>\n",
       "      <td>0.643466</td>\n",
       "      <td>0.125954</td>\n",
       "      <td>-0.717390</td>\n",
       "      <td>-0.474211</td>\n",
       "    </tr>\n",
       "    <tr>\n",
       "      <th>2008/2009</th>\n",
       "      <td>-0.157185</td>\n",
       "      <td>0.588046</td>\n",
       "      <td>0.631749</td>\n",
       "      <td>1.000000</td>\n",
       "      <td>0.421854</td>\n",
       "      <td>0.640679</td>\n",
       "      <td>-0.725528</td>\n",
       "      <td>-0.615453</td>\n",
       "      <td>-0.449030</td>\n",
       "      <td>0.432246</td>\n",
       "      <td>-0.118422</td>\n",
       "      <td>-0.617289</td>\n",
       "      <td>-0.746154</td>\n",
       "    </tr>\n",
       "    <tr>\n",
       "      <th>2009/2010</th>\n",
       "      <td>-0.049625</td>\n",
       "      <td>0.273656</td>\n",
       "      <td>0.670983</td>\n",
       "      <td>0.421854</td>\n",
       "      <td>1.000000</td>\n",
       "      <td>0.170629</td>\n",
       "      <td>-0.491357</td>\n",
       "      <td>-0.393065</td>\n",
       "      <td>-0.060360</td>\n",
       "      <td>0.547106</td>\n",
       "      <td>0.373770</td>\n",
       "      <td>-0.492365</td>\n",
       "      <td>-0.377407</td>\n",
       "    </tr>\n",
       "    <tr>\n",
       "      <th>2010/2011</th>\n",
       "      <td>-0.201875</td>\n",
       "      <td>0.891815</td>\n",
       "      <td>0.736611</td>\n",
       "      <td>0.640679</td>\n",
       "      <td>0.170629</td>\n",
       "      <td>1.000000</td>\n",
       "      <td>-0.871959</td>\n",
       "      <td>-0.728180</td>\n",
       "      <td>-0.852934</td>\n",
       "      <td>0.576236</td>\n",
       "      <td>-0.432360</td>\n",
       "      <td>-0.699429</td>\n",
       "      <td>-0.493297</td>\n",
       "    </tr>\n",
       "    <tr>\n",
       "      <th>2011/2012</th>\n",
       "      <td>0.075083</td>\n",
       "      <td>-0.847255</td>\n",
       "      <td>-0.907902</td>\n",
       "      <td>-0.725528</td>\n",
       "      <td>-0.491357</td>\n",
       "      <td>-0.871959</td>\n",
       "      <td>1.000000</td>\n",
       "      <td>0.785192</td>\n",
       "      <td>0.748002</td>\n",
       "      <td>-0.716369</td>\n",
       "      <td>0.132201</td>\n",
       "      <td>0.797775</td>\n",
       "      <td>0.608464</td>\n",
       "    </tr>\n",
       "    <tr>\n",
       "      <th>2012/2013</th>\n",
       "      <td>0.153873</td>\n",
       "      <td>-0.648865</td>\n",
       "      <td>-0.705516</td>\n",
       "      <td>-0.615453</td>\n",
       "      <td>-0.393065</td>\n",
       "      <td>-0.728180</td>\n",
       "      <td>0.785192</td>\n",
       "      <td>1.000000</td>\n",
       "      <td>0.754882</td>\n",
       "      <td>-0.730577</td>\n",
       "      <td>0.303795</td>\n",
       "      <td>0.819868</td>\n",
       "      <td>0.473793</td>\n",
       "    </tr>\n",
       "    <tr>\n",
       "      <th>2013/2014</th>\n",
       "      <td>0.149961</td>\n",
       "      <td>-0.713678</td>\n",
       "      <td>-0.604888</td>\n",
       "      <td>-0.449030</td>\n",
       "      <td>-0.060360</td>\n",
       "      <td>-0.852934</td>\n",
       "      <td>0.748002</td>\n",
       "      <td>0.754882</td>\n",
       "      <td>1.000000</td>\n",
       "      <td>-0.538520</td>\n",
       "      <td>0.468416</td>\n",
       "      <td>0.675044</td>\n",
       "      <td>0.306635</td>\n",
       "    </tr>\n",
       "    <tr>\n",
       "      <th>2014/2015</th>\n",
       "      <td>-0.484976</td>\n",
       "      <td>0.580910</td>\n",
       "      <td>0.643466</td>\n",
       "      <td>0.432246</td>\n",
       "      <td>0.547106</td>\n",
       "      <td>0.576236</td>\n",
       "      <td>-0.716369</td>\n",
       "      <td>-0.730577</td>\n",
       "      <td>-0.538520</td>\n",
       "      <td>1.000000</td>\n",
       "      <td>-0.179223</td>\n",
       "      <td>-0.759207</td>\n",
       "      <td>-0.487738</td>\n",
       "    </tr>\n",
       "    <tr>\n",
       "      <th>2015/2016</th>\n",
       "      <td>0.435374</td>\n",
       "      <td>-0.230213</td>\n",
       "      <td>0.125954</td>\n",
       "      <td>-0.118422</td>\n",
       "      <td>0.373770</td>\n",
       "      <td>-0.432360</td>\n",
       "      <td>0.132201</td>\n",
       "      <td>0.303795</td>\n",
       "      <td>0.468416</td>\n",
       "      <td>-0.179223</td>\n",
       "      <td>1.000000</td>\n",
       "      <td>0.267086</td>\n",
       "      <td>0.117204</td>\n",
       "    </tr>\n",
       "    <tr>\n",
       "      <th>2016/2017</th>\n",
       "      <td>0.207063</td>\n",
       "      <td>-0.647457</td>\n",
       "      <td>-0.717390</td>\n",
       "      <td>-0.617289</td>\n",
       "      <td>-0.492365</td>\n",
       "      <td>-0.699429</td>\n",
       "      <td>0.797775</td>\n",
       "      <td>0.819868</td>\n",
       "      <td>0.675044</td>\n",
       "      <td>-0.759207</td>\n",
       "      <td>0.267086</td>\n",
       "      <td>1.000000</td>\n",
       "      <td>0.541841</td>\n",
       "    </tr>\n",
       "    <tr>\n",
       "      <th>2017/2018</th>\n",
       "      <td>0.341762</td>\n",
       "      <td>-0.438129</td>\n",
       "      <td>-0.474211</td>\n",
       "      <td>-0.746154</td>\n",
       "      <td>-0.377407</td>\n",
       "      <td>-0.493297</td>\n",
       "      <td>0.608464</td>\n",
       "      <td>0.473793</td>\n",
       "      <td>0.306635</td>\n",
       "      <td>-0.487738</td>\n",
       "      <td>0.117204</td>\n",
       "      <td>0.541841</td>\n",
       "      <td>1.000000</td>\n",
       "    </tr>\n",
       "  </tbody>\n",
       "</table>\n",
       "</div>"
      ],
      "text/plain": [
       "           2005/2006  2006/2007  2007/2008  2008/2009  2009/2010  2010/2011  \\\n",
       "2005/2006   1.000000  -0.058488   0.069501  -0.157185  -0.049625  -0.201875   \n",
       "2006/2007  -0.058488   1.000000   0.785894   0.588046   0.273656   0.891815   \n",
       "2007/2008   0.069501   0.785894   1.000000   0.631749   0.670983   0.736611   \n",
       "2008/2009  -0.157185   0.588046   0.631749   1.000000   0.421854   0.640679   \n",
       "2009/2010  -0.049625   0.273656   0.670983   0.421854   1.000000   0.170629   \n",
       "2010/2011  -0.201875   0.891815   0.736611   0.640679   0.170629   1.000000   \n",
       "2011/2012   0.075083  -0.847255  -0.907902  -0.725528  -0.491357  -0.871959   \n",
       "2012/2013   0.153873  -0.648865  -0.705516  -0.615453  -0.393065  -0.728180   \n",
       "2013/2014   0.149961  -0.713678  -0.604888  -0.449030  -0.060360  -0.852934   \n",
       "2014/2015  -0.484976   0.580910   0.643466   0.432246   0.547106   0.576236   \n",
       "2015/2016   0.435374  -0.230213   0.125954  -0.118422   0.373770  -0.432360   \n",
       "2016/2017   0.207063  -0.647457  -0.717390  -0.617289  -0.492365  -0.699429   \n",
       "2017/2018   0.341762  -0.438129  -0.474211  -0.746154  -0.377407  -0.493297   \n",
       "\n",
       "           2011/2012  2012/2013  2013/2014  2014/2015  2015/2016  2016/2017  \\\n",
       "2005/2006   0.075083   0.153873   0.149961  -0.484976   0.435374   0.207063   \n",
       "2006/2007  -0.847255  -0.648865  -0.713678   0.580910  -0.230213  -0.647457   \n",
       "2007/2008  -0.907902  -0.705516  -0.604888   0.643466   0.125954  -0.717390   \n",
       "2008/2009  -0.725528  -0.615453  -0.449030   0.432246  -0.118422  -0.617289   \n",
       "2009/2010  -0.491357  -0.393065  -0.060360   0.547106   0.373770  -0.492365   \n",
       "2010/2011  -0.871959  -0.728180  -0.852934   0.576236  -0.432360  -0.699429   \n",
       "2011/2012   1.000000   0.785192   0.748002  -0.716369   0.132201   0.797775   \n",
       "2012/2013   0.785192   1.000000   0.754882  -0.730577   0.303795   0.819868   \n",
       "2013/2014   0.748002   0.754882   1.000000  -0.538520   0.468416   0.675044   \n",
       "2014/2015  -0.716369  -0.730577  -0.538520   1.000000  -0.179223  -0.759207   \n",
       "2015/2016   0.132201   0.303795   0.468416  -0.179223   1.000000   0.267086   \n",
       "2016/2017   0.797775   0.819868   0.675044  -0.759207   0.267086   1.000000   \n",
       "2017/2018   0.608464   0.473793   0.306635  -0.487738   0.117204   0.541841   \n",
       "\n",
       "           2017/2018  \n",
       "2005/2006   0.341762  \n",
       "2006/2007  -0.438129  \n",
       "2007/2008  -0.474211  \n",
       "2008/2009  -0.746154  \n",
       "2009/2010  -0.377407  \n",
       "2010/2011  -0.493297  \n",
       "2011/2012   0.608464  \n",
       "2012/2013   0.473793  \n",
       "2013/2014   0.306635  \n",
       "2014/2015  -0.487738  \n",
       "2015/2016   0.117204  \n",
       "2016/2017   0.541841  \n",
       "2017/2018   1.000000  "
      ]
     },
     "execution_count": 68,
     "metadata": {},
     "output_type": "execute_result"
    }
   ],
   "source": [
    "loopRollCorr_60['MSFT'].loc[60]"
   ]
  },
  {
   "cell_type": "code",
   "execution_count": 18,
   "metadata": {},
   "outputs": [],
   "source": [
    "loopSeasonalCorr_60 = ch.SeasonCorrTest(loopRollCorr_60, dropNum=10, n=0.75)"
   ]
  },
  {
   "cell_type": "code",
   "execution_count": 19,
   "metadata": {},
   "outputs": [],
   "source": [
    "loopDaysWithHighCorr = ch.HighCorrDays(loopSeasonalCorr_60)"
   ]
  },
  {
   "cell_type": "code",
   "execution_count": 20,
   "metadata": {},
   "outputs": [],
   "source": [
    "loopPctChangeOfResults = ch.PctReturnForDays(loopDaysWithHighCorr, loopYear, periods=60)"
   ]
  },
  {
   "cell_type": "code",
   "execution_count": 21,
   "metadata": {},
   "outputs": [],
   "source": [
    "loopExecSummary = ch.ExecSummaryCorr(loopPctChangeOfResults)"
   ]
  },
  {
   "cell_type": "code",
   "execution_count": null,
   "metadata": {},
   "outputs": [],
   "source": [
    "loopExecSummary"
   ]
  },
  {
   "cell_type": "code",
   "execution_count": 26,
   "metadata": {},
   "outputs": [
    {
     "name": "stdout",
     "output_type": "stream",
     "text": [
      "BKNG Day63\n",
      "{'TotalTrades': 13, 'NumPos': 13, 'NumNeg': 0, 'AvgReturnOnPos': 16.11, 'AvgReturnOnNeg': nan}\n",
      "BKNG Day65\n",
      "{'TotalTrades': 13, 'NumPos': 13, 'NumNeg': 0, 'AvgReturnOnPos': 17.18, 'AvgReturnOnNeg': nan}\n",
      "AKAM Day66\n",
      "{'TotalTrades': 13, 'NumPos': 9, 'NumNeg': 4, 'AvgReturnOnPos': 17.07, 'AvgReturnOnNeg': -14.29}\n",
      "AKAM Day69\n",
      "{'TotalTrades': 13, 'NumPos': 9, 'NumNeg': 4, 'AvgReturnOnPos': 20.25, 'AvgReturnOnNeg': -14.31}\n",
      "CPB Day69\n",
      "{'TotalTrades': 13, 'NumPos': 8, 'NumNeg': 5, 'AvgReturnOnPos': 8.69, 'AvgReturnOnNeg': -6.08}\n",
      "CPB Day70\n",
      "{'TotalTrades': 13, 'NumPos': 9, 'NumNeg': 4, 'AvgReturnOnPos': 8.33, 'AvgReturnOnNeg': -7.9}\n",
      "XEC Day65\n",
      "{'TotalTrades': 13, 'NumPos': 9, 'NumNeg': 4, 'AvgReturnOnPos': 19.3, 'AvgReturnOnNeg': -16.9}\n",
      "XEC Day66\n",
      "{'TotalTrades': 13, 'NumPos': 9, 'NumNeg': 4, 'AvgReturnOnPos': 19.16, 'AvgReturnOnNeg': -17.44}\n",
      "MAT Day60\n",
      "{'TotalTrades': 13, 'NumPos': 7, 'NumNeg': 6, 'AvgReturnOnPos': 17.83, 'AvgReturnOnNeg': -17.36}\n",
      "MAT Day61\n",
      "{'TotalTrades': 13, 'NumPos': 7, 'NumNeg': 6, 'AvgReturnOnPos': 17.11, 'AvgReturnOnNeg': -17.16}\n",
      "MAT Day62\n",
      "{'TotalTrades': 13, 'NumPos': 7, 'NumNeg': 6, 'AvgReturnOnPos': 19.4, 'AvgReturnOnNeg': -16.4}\n",
      "MAT Day63\n",
      "{'TotalTrades': 13, 'NumPos': 7, 'NumNeg': 6, 'AvgReturnOnPos': 19.74, 'AvgReturnOnNeg': -15.82}\n",
      "MAT Day64\n",
      "{'TotalTrades': 13, 'NumPos': 8, 'NumNeg': 5, 'AvgReturnOnPos': 17.52, 'AvgReturnOnNeg': -17.81}\n",
      "MAT Day65\n",
      "{'TotalTrades': 13, 'NumPos': 8, 'NumNeg': 5, 'AvgReturnOnPos': 18.43, 'AvgReturnOnNeg': -17.29}\n"
     ]
    }
   ],
   "source": [
    "for stock, days in loopExecSummary.items():\n",
    "    for day, data in days.items():\n",
    "        dayValue = int(day[3:])\n",
    "        if (dayValue > 250) or (dayValue < 100):\n",
    "            print(stock, day)\n",
    "            print(data)"
   ]
  },
  {
   "cell_type": "code",
   "execution_count": null,
   "metadata": {},
   "outputs": [],
   "source": []
  }
 ],
 "metadata": {
  "kernelspec": {
   "display_name": "Python 3",
   "language": "python",
   "name": "python3"
  },
  "language_info": {
   "codemirror_mode": {
    "name": "ipython",
    "version": 3
   },
   "file_extension": ".py",
   "mimetype": "text/x-python",
   "name": "python",
   "nbconvert_exporter": "python",
   "pygments_lexer": "ipython3",
   "version": "3.7.3"
  }
 },
 "nbformat": 4,
 "nbformat_minor": 4
}
