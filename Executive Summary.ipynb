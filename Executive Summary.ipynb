{
 "cells": [
  {
   "cell_type": "code",
   "execution_count": 1,
   "metadata": {},
   "outputs": [],
   "source": [
    "import os"
   ]
  },
  {
   "cell_type": "code",
   "execution_count": 2,
   "metadata": {},
   "outputs": [],
   "source": [
    "baseDir = os.getcwd()\n",
    "dataLocation = 'data/short_clean_closepx.csv'\n",
    "dataFilePath = os.path.join(baseDir, dataLocation)"
   ]
  },
  {
   "cell_type": "code",
   "execution_count": 3,
   "metadata": {},
   "outputs": [],
   "source": [
    "import pandas as pd\n",
    "import numpy as np\n",
    "import matplotlib.pyplot as plt"
   ]
  },
  {
   "cell_type": "code",
   "execution_count": 5,
   "metadata": {},
   "outputs": [
    {
     "data": {
      "text/html": [
       "<div>\n",
       "<style scoped>\n",
       "    .dataframe tbody tr th:only-of-type {\n",
       "        vertical-align: middle;\n",
       "    }\n",
       "\n",
       "    .dataframe tbody tr th {\n",
       "        vertical-align: top;\n",
       "    }\n",
       "\n",
       "    .dataframe thead th {\n",
       "        text-align: right;\n",
       "    }\n",
       "</style>\n",
       "<table border=\"1\" class=\"dataframe\">\n",
       "  <thead>\n",
       "    <tr style=\"text-align: right;\">\n",
       "      <th></th>\n",
       "      <th>MSFT</th>\n",
       "      <th>AAPL</th>\n",
       "      <th>AMZN</th>\n",
       "      <th>JPM</th>\n",
       "      <th>GOOG</th>\n",
       "      <th>GOOGL</th>\n",
       "      <th>XOM</th>\n",
       "    </tr>\n",
       "    <tr>\n",
       "      <th>Date</th>\n",
       "      <th></th>\n",
       "      <th></th>\n",
       "      <th></th>\n",
       "      <th></th>\n",
       "      <th></th>\n",
       "      <th></th>\n",
       "      <th></th>\n",
       "    </tr>\n",
       "  </thead>\n",
       "  <tbody>\n",
       "    <tr>\n",
       "      <th>2005-01-03</th>\n",
       "      <td>26.740000</td>\n",
       "      <td>4.520714</td>\n",
       "      <td>44.520000</td>\n",
       "      <td>39.150002</td>\n",
       "      <td>100.700043</td>\n",
       "      <td>101.456459</td>\n",
       "      <td>50.090000</td>\n",
       "    </tr>\n",
       "    <tr>\n",
       "      <th>2005-01-04</th>\n",
       "      <td>26.840000</td>\n",
       "      <td>4.567143</td>\n",
       "      <td>42.139999</td>\n",
       "      <td>38.410000</td>\n",
       "      <td>96.621567</td>\n",
       "      <td>97.347351</td>\n",
       "      <td>49.750000</td>\n",
       "    </tr>\n",
       "    <tr>\n",
       "      <th>2005-01-05</th>\n",
       "      <td>26.780001</td>\n",
       "      <td>4.607143</td>\n",
       "      <td>41.770000</td>\n",
       "      <td>38.490002</td>\n",
       "      <td>96.129768</td>\n",
       "      <td>96.851852</td>\n",
       "      <td>49.490002</td>\n",
       "    </tr>\n",
       "    <tr>\n",
       "      <th>2005-01-06</th>\n",
       "      <td>26.750000</td>\n",
       "      <td>4.610714</td>\n",
       "      <td>41.049999</td>\n",
       "      <td>38.709999</td>\n",
       "      <td>93.665794</td>\n",
       "      <td>94.369370</td>\n",
       "      <td>50.119999</td>\n",
       "    </tr>\n",
       "    <tr>\n",
       "      <th>2005-01-07</th>\n",
       "      <td>26.670000</td>\n",
       "      <td>4.946429</td>\n",
       "      <td>42.320000</td>\n",
       "      <td>38.400002</td>\n",
       "      <td>96.298668</td>\n",
       "      <td>97.022018</td>\n",
       "      <td>49.790001</td>\n",
       "    </tr>\n",
       "  </tbody>\n",
       "</table>\n",
       "</div>"
      ],
      "text/plain": [
       "                 MSFT      AAPL       AMZN        JPM        GOOG       GOOGL  \\\n",
       "Date                                                                            \n",
       "2005-01-03  26.740000  4.520714  44.520000  39.150002  100.700043  101.456459   \n",
       "2005-01-04  26.840000  4.567143  42.139999  38.410000   96.621567   97.347351   \n",
       "2005-01-05  26.780001  4.607143  41.770000  38.490002   96.129768   96.851852   \n",
       "2005-01-06  26.750000  4.610714  41.049999  38.709999   93.665794   94.369370   \n",
       "2005-01-07  26.670000  4.946429  42.320000  38.400002   96.298668   97.022018   \n",
       "\n",
       "                  XOM  \n",
       "Date                   \n",
       "2005-01-03  50.090000  \n",
       "2005-01-04  49.750000  \n",
       "2005-01-05  49.490002  \n",
       "2005-01-06  50.119999  \n",
       "2005-01-07  49.790001  "
      ]
     },
     "execution_count": 5,
     "metadata": {},
     "output_type": "execute_result"
    }
   ],
   "source": [
    "masterData = pd.read_csv(dataFilePath, index_col=0)\n",
    "masterData.head()"
   ]
  },
  {
   "cell_type": "markdown",
   "metadata": {},
   "source": [
    "<h2>Lets look at the rolling correlation</h2>"
   ]
  },
  {
   "cell_type": "markdown",
   "metadata": {},
   "source": [
    "<ol><li><h4>First reshape the data to a dictionary. Key:stock, Value:columns=years</h4></li></ol>"
   ]
  },
  {
   "cell_type": "code",
   "execution_count": 6,
   "metadata": {},
   "outputs": [],
   "source": [
    "import my_helpers"
   ]
  },
  {
   "cell_type": "code",
   "execution_count": null,
   "metadata": {},
   "outputs": [],
   "source": [
    "byStockAndYear = my_helpers.ByStockAndYear(masterData)\n",
    "\n"
   ]
  }
 ],
 "metadata": {
  "kernelspec": {
   "display_name": "Python 3",
   "language": "python",
   "name": "python3"
  },
  "language_info": {
   "codemirror_mode": {
    "name": "ipython",
    "version": 3
   },
   "file_extension": ".py",
   "mimetype": "text/x-python",
   "name": "python",
   "nbconvert_exporter": "python",
   "pygments_lexer": "ipython3",
   "version": "3.7.3"
  }
 },
 "nbformat": 4,
 "nbformat_minor": 2
}
