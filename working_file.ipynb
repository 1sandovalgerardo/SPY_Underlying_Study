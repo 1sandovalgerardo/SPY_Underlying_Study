{
 "cells": [
  {
   "cell_type": "code",
   "execution_count": null,
   "metadata": {},
   "outputs": [],
   "source": [
    "'''\n",
    "Code for running my analysis on pct change of the SPX underlying positions over a 30, 60, 90 day periods.\n",
    "Analysis starts with the daily close price (closepx) of all SPY underlying.  \n",
    "This assumes you have an excel or csv file saved in the directory with the historical closing prices.\n",
    "'''"
   ]
  },
  {
   "cell_type": "code",
   "execution_count": null,
   "metadata": {},
   "outputs": [],
   "source": [
    "import os"
   ]
  },
  {
   "cell_type": "code",
   "execution_count": null,
   "metadata": {},
   "outputs": [],
   "source": [
    "os.listdir()"
   ]
  },
  {
   "cell_type": "code",
   "execution_count": 1,
   "metadata": {},
   "outputs": [],
   "source": [
    "import pandas as pd\n",
    "import numpy as np\n",
    "import matplotlib.pyplot as plt\n"
   ]
  },
  {
   "cell_type": "code",
   "execution_count": 2,
   "metadata": {},
   "outputs": [
    {
     "name": "stdout",
     "output_type": "stream",
     "text": [
      "Using matplotlib backend: Qt5Agg\n"
     ]
    }
   ],
   "source": [
    "# run this cell if you want to charts to appear in a pop-up window.\n",
    "# this method is recommended\n",
    "%matplotlib auto"
   ]
  },
  {
   "cell_type": "markdown",
   "metadata": {},
   "source": [
    "<h2>Import the data</h2>"
   ]
  },
  {
   "cell_type": "code",
   "execution_count": 3,
   "metadata": {},
   "outputs": [],
   "source": [
    "rough_data = pd.read_excel('small_closepx_data.xls', index_col=0)"
   ]
  },
  {
   "cell_type": "code",
   "execution_count": null,
   "metadata": {
    "scrolled": false
   },
   "outputs": [],
   "source": [
    "# rough_data.head()"
   ]
  },
  {
   "cell_type": "markdown",
   "metadata": {},
   "source": [
    "<h2>Clean the Data</h2>"
   ]
  },
  {
   "cell_type": "code",
   "execution_count": 4,
   "metadata": {},
   "outputs": [],
   "source": [
    "# this sections removes the columns with NaN values.\n",
    "# I remove the columns as I would like a full history to analyze\n",
    "\n",
    "clean_data = rough_data.dropna(axis=1)\n"
   ]
  },
  {
   "cell_type": "code",
   "execution_count": null,
   "metadata": {},
   "outputs": [],
   "source": [
    "'''\n",
    "print('Change in columns: ', len(clean_data.columns) - len(rough_data.columns))\n",
    "for ticker in rough_data.columns:\n",
    "    if ticker not in clean_data.columns:\n",
    "        print(ticker)\n",
    "'''"
   ]
  },
  {
   "cell_type": "code",
   "execution_count": null,
   "metadata": {},
   "outputs": [],
   "source": [
    "# Save the clean data to file\n",
    "#clean_data.to_csv('data/short_clean_closepx.csv')\n"
   ]
  },
  {
   "cell_type": "markdown",
   "metadata": {},
   "source": [
    "<h2>Review Clean Data</h2>"
   ]
  },
  {
   "cell_type": "code",
   "execution_count": 5,
   "metadata": {
    "scrolled": false
   },
   "outputs": [],
   "source": [
    "# pandas describe summary of the closing px for each ticker\n",
    "\n",
    "px_summary = clean_data.describe()"
   ]
  },
  {
   "cell_type": "code",
   "execution_count": null,
   "metadata": {
    "scrolled": true
   },
   "outputs": [],
   "source": [
    "print(px_summary.transpose())"
   ]
  },
  {
   "cell_type": "markdown",
   "metadata": {},
   "source": [
    "<h4>Manually calculate variance and std dev</h4>"
   ]
  },
  {
   "cell_type": "code",
   "execution_count": 6,
   "metadata": {
    "scrolled": true
   },
   "outputs": [],
   "source": [
    "variance = (((clean_data-clean_data.mean())**2).sum(axis=0))/\\\n",
    "              (len(clean_data)-1)\n",
    "\n",
    "variance2 = clean_data.var()"
   ]
  },
  {
   "cell_type": "code",
   "execution_count": null,
   "metadata": {
    "scrolled": true
   },
   "outputs": [],
   "source": [
    "variance == variance2"
   ]
  },
  {
   "cell_type": "code",
   "execution_count": null,
   "metadata": {},
   "outputs": [],
   "source": [
    "'''\n",
    "px_variance = {}\n",
    "for ticker in clean_data:\n",
    "    variance = sum(((clean_data[ticker] - clean_data[ticker].mean())**2) / \n",
    "              (len(clean_data[ticker] - 1)))\n",
    "    px_variance[ticker] = variance\n",
    "    \n",
    "px_variance\n",
    "'''"
   ]
  },
  {
   "cell_type": "code",
   "execution_count": null,
   "metadata": {},
   "outputs": [],
   "source": [
    "# Std Dev method 1\n",
    "from math import sqrt\n",
    "\n",
    "px_std1 = {}\n",
    "for ticker in clean_data:\n",
    "    std = sqrt(px_variance[ticker])\n",
    "    px_std1[ticker] = std\n",
    "\n",
    "print(px_std1)\n",
    "\n",
    "\n",
    "px_std = clean_data.std()\n",
    "print(px_std)"
   ]
  },
  {
   "cell_type": "markdown",
   "metadata": {},
   "source": [
    "<h4>Rolling Std Dev</h4>"
   ]
  },
  {
   "cell_type": "code",
   "execution_count": 7,
   "metadata": {},
   "outputs": [],
   "source": [
    "px_rolling_std = clean_data.rolling(20).std()\n",
    "px_rolling_std = px_rolling_std.dropna()\n"
   ]
  },
  {
   "cell_type": "code",
   "execution_count": null,
   "metadata": {},
   "outputs": [],
   "source": [
    "clean_data.rolling(20).std()"
   ]
  },
  {
   "cell_type": "code",
   "execution_count": null,
   "metadata": {
    "scrolled": true
   },
   "outputs": [],
   "source": [
    "# print(type(px_rolling_std))\n",
    "# print(px_rolling_std.tail(10))"
   ]
  },
  {
   "cell_type": "code",
   "execution_count": null,
   "metadata": {},
   "outputs": [],
   "source": [
    "# px_rolling_std.plot()"
   ]
  },
  {
   "cell_type": "markdown",
   "metadata": {},
   "source": [
    "<h4>Plot rolling std against price for each position.</h4>\n",
    "<ol><li><h4>Select specific chart to run</h4></li></ol>"
   ]
  },
  {
   "cell_type": "code",
   "execution_count": null,
   "metadata": {},
   "outputs": [],
   "source": [
    "# if you want to chart a specific symbol, use this cell to run your chart.\n",
    "# otherwise you can cycle through the charts using 1 of the 2 funcs below.\n",
    "fig, ax1 = plt.subplots()\n",
    "\n",
    "color = 'tab:orange'\n",
    "ax1.set_xlabel('Date')\n",
    "ax1.set_ylabel('Std Dev', color=color)\n",
    "ax1.plot(px_rolling_std['MSFT'], color=color)\n",
    "\n",
    "ax2 = ax1.twinx()\n",
    "\n",
    "color = 'tab:blue'\n",
    "ax2.set_ylabel('Price', color=color)\n",
    "plt.plot(clean_data['MSFT'], color=color)\n",
    "\n",
    "\n",
    "plt.show()"
   ]
  },
  {
   "cell_type": "markdown",
   "metadata": {},
   "source": [
    "<ol start='2'><li><h4>Cycle through charts with Std Dev and Px in same Pane</h4></li></ol>"
   ]
  },
  {
   "cell_type": "code",
   "execution_count": null,
   "metadata": {},
   "outputs": [],
   "source": [
    "# Plots Std Dev and Price in same chart (share x-axis)\n",
    "def cycle_charts():\n",
    "    for ticker in clean_data.columns:\n",
    "\n",
    "        fig, ax1 = plt.subplots()\n",
    "        color = 'tab:orange'\n",
    "        ax1.set_title(ticker)\n",
    "        ax1.set_xlabel('Date')\n",
    "        ax1.set_ylabel('Std Dev', color=color)\n",
    "        ax1.plot(px_rolling_std[ticker], color=color)\n",
    "\n",
    "        ax2 = ax1.twinx()\n",
    "        color = 'tab:blue'\n",
    "        ax2.set_ylabel('Price', color=color)\n",
    "        plt.plot(clean_data[ticker], color=color)\n",
    "\n",
    "        yield plt.show()\n",
    "    "
   ]
  },
  {
   "cell_type": "code",
   "execution_count": null,
   "metadata": {},
   "outputs": [],
   "source": [
    "cycle = cycle_charts()"
   ]
  },
  {
   "cell_type": "code",
   "execution_count": null,
   "metadata": {},
   "outputs": [],
   "source": [
    "# re-run this cell to cycle through viewing each chart\n",
    "next(cycle)"
   ]
  },
  {
   "cell_type": "markdown",
   "metadata": {},
   "source": [
    "<ol start='3'><li><h4>\n",
    "  Cycle through charts with Std Dev and Px on different Panes\n",
    "</h4></li></ol>"
   ]
  },
  {
   "cell_type": "code",
   "execution_count": null,
   "metadata": {},
   "outputs": [],
   "source": [
    "# Plots Price in chart's pane 1 and Std Dev in chart's pane 2\n",
    "\n",
    "def cycle_charts2():\n",
    "    for ticker in clean_data.columns:\n",
    "        avg_std = px_rolling_std[ticker].mean()\n",
    "        \n",
    "        fig, axes = plt.subplots(2,1)\n",
    "        axes[0].set_title(ticker)\n",
    "        axes[0].set_xlabel('Date')\n",
    "        # Top Pane\n",
    "        axes[0].plot(clean_data[ticker], color='blue')\n",
    "        axes[0].set_ylabel('Price')\n",
    "        # Bottom Pane\n",
    "        axes[1].set_xlabel('Date')\n",
    "        axes[1].plot(px_rolling_std[ticker], color='orange', label='Rolling Std Dev')\n",
    "        axes[1].axhline(y=avg_std, label='Std Dev Mean')\n",
    "        axes[1].set_ylabel('Std Dev')\n",
    "        axes[1].legend()\n",
    "        yield plt.show()  \n",
    "        \n",
    "        \n",
    "    "
   ]
  },
  {
   "cell_type": "code",
   "execution_count": null,
   "metadata": {},
   "outputs": [],
   "source": [
    "# run this cell to begin cycling through viewing each chart\n",
    "cycle = cycle_charts2()"
   ]
  },
  {
   "cell_type": "code",
   "execution_count": null,
   "metadata": {},
   "outputs": [],
   "source": [
    "# run this cell when ready to move onto next chart\n",
    "next(cycle)"
   ]
  },
  {
   "cell_type": "markdown",
   "metadata": {},
   "source": [
    "<h2>Note:</h2>\n",
    "<p>Keep in mind that the std dev is increasing over time because the price of the underlying\n",
    "is increasing.</p>\n",
    "<p>So we are finding the std dev of larger numbers hence the increase in std dev</p>\n",
    "<p>We will now examine the % return and accompaniyng stats.</p>"
   ]
  },
  {
   "cell_type": "markdown",
   "metadata": {},
   "source": [
    "<h2>Calculating % Change over N periods</h2>"
   ]
  },
  {
   "cell_type": "code",
   "execution_count": 8,
   "metadata": {},
   "outputs": [],
   "source": [
    "# 20 day rolling return\n",
    "pctChange_20 = round((((clean_data - clean_data.shift(20)) / clean_data.shift(20)) * 100), 0)\n",
    "pctChange_20 = pctChange_20.dropna()\n",
    "\n",
    "# 40 day rolling return\n",
    "pctChange_40 = round((((clean_data - clean_data.shift(40)) / clean_data.shift(40)) * 100), 0)\n",
    "pctChange_40 = pctChange_40.dropna()\n",
    "\n",
    "# 60 day rolling return\n",
    "pctChange_60 = round((((clean_data - clean_data.shift(60)) / clean_data.shift(60)) * 100), 0)\n",
    "pctChange_60 = pctChange_60.dropna()\n",
    "\n",
    "\n",
    "pctChangeList = [pctChange_20, pctChange_40, pctChange_60]"
   ]
  },
  {
   "cell_type": "code",
   "execution_count": null,
   "metadata": {
    "scrolled": true
   },
   "outputs": [],
   "source": [
    "pctChange_20.head()"
   ]
  },
  {
   "cell_type": "markdown",
   "metadata": {},
   "source": [
    "<h4>Save the data to a file</h4>"
   ]
  },
  {
   "cell_type": "code",
   "execution_count": null,
   "metadata": {},
   "outputs": [],
   "source": [
    "'''\n",
    "pctChange_20.to_csv('data/PctChange20.csv')\n",
    "pctChange_40.to_csv('data/PctChange40.csv')\n",
    "pctChange_60.to_csv('data/PctChange60.csv')\n",
    "'''"
   ]
  },
  {
   "cell_type": "markdown",
   "metadata": {},
   "source": [
    "<h3>Create Summary Data Frame for Pct Change Stats</h3>\n",
    "<h4><p>This method is inefficient.  I used it prior to creating a helper function.</p>\n",
    "<p>As i have learned in programming, if you are repeating yourself, there is a better way</p>\n",
    "</h4>"
   ]
  },
  {
   "cell_type": "markdown",
   "metadata": {},
   "source": [
    "<h4>Method 1</h4>"
   ]
  },
  {
   "cell_type": "code",
   "execution_count": null,
   "metadata": {},
   "outputs": [],
   "source": [
    "# Create the base dataframe\n",
    "# pctChange_summary = pd.DataFrame()"
   ]
  },
  {
   "cell_type": "code",
   "execution_count": null,
   "metadata": {},
   "outputs": [],
   "source": [
    "# Begin adding the desired data\n",
    "'''\n",
    "pctChange_summary['Std Dev 20'] = pctchange_20.std().transpose()\n",
    "pctChange_summary['Std Dev 40'] = pctchange_40.std().transpose()\n",
    "pctChange_summary['Std Dev 60'] = pctchange_60.std().transpose()\n",
    "'''"
   ]
  },
  {
   "cell_type": "code",
   "execution_count": null,
   "metadata": {},
   "outputs": [],
   "source": [
    "'''\n",
    "pctChange_summary['20 Min %Change'] = pctchange_20.min().transpose()\n",
    "pctChange_summary['40 Min %Change'] = pctchange_40.min().transpose()\n",
    "pctChange_summary['60 Min %Change'] = pctchange_60.min().transpose()\n",
    "\n",
    "pctChange_summary['20 Min Date'] = pctchange_20.idxmin().transpose()\n",
    "pctChange_summary['40 Min Date'] = pctchange_40.idxmin().transpose()\n",
    "pctChange_summary['60 Min Date'] = pctchange_60.idxmin().transpose()\n",
    "\n",
    "pctChange_summary['20 Max %Change'] = pctchange_20.max().transpose()\n",
    "pctChange_summary['40 Max %Change'] = pctchange_40.max().transpose()\n",
    "pctChange_summary['60 Max %Change'] = pctchange_60.max().transpose()\n",
    "\n",
    "pctChange_summary['20 Max Date'] = pctchange_20.idxmax().transpose()\n",
    "pctChange_summary['40 Max Date'] = pctchange_40.idxmax().transpose()\n",
    "pctChange_summary['60 Max Date'] = pctchange_60.idxmax().transpose()\n",
    "\n",
    "pctChange_summary['20 Mean'] = pctchange_20.mean().transpose()\n",
    "pctChange_summary['40 Mean'] = pctchange_40.mean().transpose()\n",
    "pctChange_summary['60 Mean'] = pctchange_60.mean().transpose()\n",
    "\n",
    "pctChange_summary['20 Median'] = pctchange_20.median().transpose()\n",
    "pctChange_summary['40 Median'] = pctchange_40.median().transpose()\n",
    "pctChange_summary['60 Median'] = pctchange_60.median().transpose()\n",
    "\n",
    "pctChange_summary['20 Mode'] = pctchange_20.mode().transpose()\n",
    "pctChange_summary['40 Mode'] = pctchange_40.mode().transpose()\n",
    "pctChange_summary['60 Mode'] = pctchange_60.mode().transpose()\n",
    "'''"
   ]
  },
  {
   "cell_type": "code",
   "execution_count": null,
   "metadata": {
    "scrolled": true
   },
   "outputs": [],
   "source": [
    "#pctChange_summary"
   ]
  },
  {
   "cell_type": "markdown",
   "metadata": {},
   "source": [
    "<h4>\n",
    "<p>Method 2</p>\n",
    "</h4>"
   ]
  },
  {
   "cell_type": "code",
   "execution_count": null,
   "metadata": {},
   "outputs": [],
   "source": [
    "from my_helpers import my_summary"
   ]
  },
  {
   "cell_type": "code",
   "execution_count": null,
   "metadata": {
    "scrolled": false
   },
   "outputs": [],
   "source": [
    "my_summary(pctChange_20)"
   ]
  },
  {
   "cell_type": "code",
   "execution_count": null,
   "metadata": {
    "scrolled": true
   },
   "outputs": [],
   "source": [
    "my_summary(pctChange_40)"
   ]
  },
  {
   "cell_type": "code",
   "execution_count": null,
   "metadata": {
    "scrolled": true
   },
   "outputs": [],
   "source": [
    "my_summary(pctChange_60)"
   ]
  },
  {
   "cell_type": "markdown",
   "metadata": {},
   "source": [
    "<h2>Plotting Pct Change</h2>"
   ]
  },
  {
   "cell_type": "code",
   "execution_count": null,
   "metadata": {},
   "outputs": [],
   "source": [
    "# the variable periods will equal one of the below variables.\n",
    "pctChangeSummary_20 =my_summary(pctChange_20)\n",
    "pctChangeSummary_40 = my_summary(pctChange_40)\n",
    "pctChangeSummary_60 = my_summary(pctChange_60)"
   ]
  },
  {
   "cell_type": "markdown",
   "metadata": {},
   "source": [
    "<h4>Method 1\n",
    "<p>Modify the ticer variable and periods veriable for desired plot</p>\n",
    "</h4>"
   ]
  },
  {
   "cell_type": "code",
   "execution_count": null,
   "metadata": {},
   "outputs": [],
   "source": [
    "# Simple Chart, enter specific symbol and rolling periods\n",
    "# ticker = the symbol you want to study. Must be type string.\n",
    "# periods = enter the dataframe that contains the specific rolling time period desired.\n",
    "\n",
    "ticker = 'MSFT'\n",
    "periods = pctChangeSummary_20\n",
    "fig, axes = plt.subplots()\n",
    "axes.set_title('Pct Change')\n",
    "axes.set_ylabel('Pct Change')\n",
    "axes.set_xlabel('Date')\n",
    "axes.axhline(y=(periods['mean'].loc[ticker]))\n",
    "axes.axhline(y=(periods['mean'].loc[ticker] + periods['std'].loc[ticker]), color='red')\n",
    "axes.axhline(y=(periods['mean'].loc[ticker] - periods['std'].loc[ticker]), color='red')\n",
    "axes.plot(pctChange_20['MSFT'])\n",
    "plt.show()"
   ]
  },
  {
   "cell_type": "code",
   "execution_count": null,
   "metadata": {},
   "outputs": [],
   "source": [
    "# Simple Histogram\n",
    "\n",
    "pctchange_20['MSFT'].hist(bins=50, color='orange')\n",
    "#pctchange_40['MSFT'].hist(bins=100, color='blue')\n",
    "#pctchange_60['MSFT'].hist(bins=100, color='green')"
   ]
  },
  {
   "cell_type": "code",
   "execution_count": null,
   "metadata": {
    "scrolled": true
   },
   "outputs": [],
   "source": [
    "# Histogram with Line\n",
    "\n",
    "data = pctchange_20['MSFT']\n",
    "density = stats.gaussian_kde(data)\n",
    "xs = 50\n",
    "density.covariance_factor = lambda : .25\n",
    "density._compute_covariance()\n",
    "plt.plot(xs,density(xs))\n",
    "plt.show()"
   ]
  },
  {
   "cell_type": "code",
   "execution_count": null,
   "metadata": {},
   "outputs": [],
   "source": [
    "# Multi Pane Charting\n",
    "\n",
    "density = stats.gaussian_kde(pctchange_20['MSFT'])\n",
    "fig, axes = plt.subplots(3,1)\n",
    "axes[0].hist(pctchange_20['MSFT'], bins=100)\n",
    "axes[0].plot()"
   ]
  },
  {
   "cell_type": "markdown",
   "metadata": {},
   "source": [
    "<h2>Collecting thoughts on data</h2>"
   ]
  },
  {
   "cell_type": "markdown",
   "metadata": {},
   "source": [
    "<h4>Looking at the 1 standard deviation bounds</h4>\n",
    "<h4> Code to create a table that contains the upper and lower 1-standard dev bounds for each ticker</h4>\n",
    "<h3>Method 1</h3>"
   ]
  },
  {
   "cell_type": "code",
   "execution_count": null,
   "metadata": {},
   "outputs": [],
   "source": [
    "ticker = 'MSFT'\n",
    "periods = pctChangeSummary_20\n",
    "\n",
    "upper_1std = periods['mean'].loc[ticker] + periods['std'].loc[ticker]\n",
    "lower_1std = periods['mean'].loc[ticker] - periods['std'].loc[ticker]\n"
   ]
  },
  {
   "cell_type": "code",
   "execution_count": null,
   "metadata": {},
   "outputs": [],
   "source": [
    "# Code to automate finding the upper and lower %change 1stddev bounds\n",
    "\n",
    "UpperLower_20 = pd.DataFrame()\n",
    "UpperLower_40 = pd.DataFrame()\n",
    "UpperLower_60 = pd.DataFrame()"
   ]
  },
  {
   "cell_type": "code",
   "execution_count": null,
   "metadata": {},
   "outputs": [],
   "source": [
    "UpperLower_20['Upper_1std_20'] = pctChangeSummary_20['mean'] + pctChangeSummary_20['std']\n",
    "UpperLower_20['Lower_1std_20'] = pctChangeSummary_20['mean'] - pctChangeSummary_20['std']\n",
    "\n",
    "UpperLower_40['Upper_1std_40'] = pctChangeSummary_40['mean'] + pctChangeSummary_40['std']\n",
    "UpperLower_40['Lower_1std_40'] = pctChangeSummary_40['mean'] - pctChangeSummary_40['std']\n",
    "\n",
    "UpperLower_60['Upper_1std_60'] = pctChangeSummary_60['mean'] + pctChangeSummary_60['std']\n",
    "UpperLower_60['Lower_1std_60'] = pctChangeSummary_60['mean'] - pctChangeSummary_60['std']"
   ]
  },
  {
   "cell_type": "code",
   "execution_count": null,
   "metadata": {},
   "outputs": [],
   "source": [
    "print(UpperLower_20)\n",
    "print(UpperLower_40)\n",
    "print(UpperLower_60)"
   ]
  },
  {
   "cell_type": "code",
   "execution_count": null,
   "metadata": {},
   "outputs": [],
   "source": [
    "UpperLower_list = [UpperLower_20, UpperLower_40, UpperLower_60]"
   ]
  },
  {
   "cell_type": "code",
   "execution_count": null,
   "metadata": {},
   "outputs": [],
   "source": [
    "'''\n",
    "for item in UpperLower_list:\n",
    "    for index, column in zip(item.index, item.columns):\n",
    "        print(column)\n",
    "'''     "
   ]
  },
  {
   "cell_type": "code",
   "execution_count": null,
   "metadata": {},
   "outputs": [],
   "source": [
    "'''\n",
    "for item in UpperLower_list:\n",
    "    print(item.index)\n",
    "    print(item.columns)\n",
    "'''"
   ]
  },
  {
   "cell_type": "code",
   "execution_count": null,
   "metadata": {
    "scrolled": true
   },
   "outputs": [],
   "source": [
    "print(UpperLower_list)"
   ]
  },
  {
   "cell_type": "markdown",
   "metadata": {},
   "source": [
    "<h3>Method 2</h3>\n",
    "<h4>Attempt to automate the creation of the UpperLower bounds dataframe\n",
    "   <br> <p>My Preferred Method</p>\n",
    "</h4>\n"
   ]
  },
  {
   "cell_type": "code",
   "execution_count": 9,
   "metadata": {},
   "outputs": [],
   "source": [
    "def UpperLowerBounds(df):\n",
    "    '''\n",
    "    Takes in a DataFrame and returnds the 1 standard deviation bounds\n",
    "    of the data. The return object is type pandas.DataFrame.\n",
    "    Can also take in a list or tuple of DataFrames.\n",
    "    '''\n",
    "    if type(df) == list or type(df) == tuple:\n",
    "        assert type(df[0]) == type(pd.DataFrame()), 'List does not contain type DataFrame'\n",
    "        bounds = []\n",
    "        for item in df:\n",
    "            bounds.append(UpperLowerBounds(item))\n",
    "        return bounds\n",
    "    else:\n",
    "        assert type(df)==type(pd.DataFrame()), 'Input not type Pandas DataFrame.'\n",
    "        upper = df.mean() + df.std()\n",
    "        lower = df.mean() - df.std()\n",
    "        bounds = pd.DataFrame([upper, lower], index=['UpperBounds', 'LowerBounds'])\n",
    "        return bounds\n",
    "    "
   ]
  },
  {
   "cell_type": "code",
   "execution_count": 10,
   "metadata": {
    "scrolled": true
   },
   "outputs": [
    {
     "data": {
      "text/html": [
       "<div>\n",
       "<style scoped>\n",
       "    .dataframe tbody tr th:only-of-type {\n",
       "        vertical-align: middle;\n",
       "    }\n",
       "\n",
       "    .dataframe tbody tr th {\n",
       "        vertical-align: top;\n",
       "    }\n",
       "\n",
       "    .dataframe thead th {\n",
       "        text-align: right;\n",
       "    }\n",
       "</style>\n",
       "<table border=\"1\" class=\"dataframe\">\n",
       "  <thead>\n",
       "    <tr style=\"text-align: right;\">\n",
       "      <th></th>\n",
       "      <th>MSFT</th>\n",
       "      <th>AAPL</th>\n",
       "      <th>AMZN</th>\n",
       "      <th>JPM</th>\n",
       "      <th>GOOG</th>\n",
       "      <th>GOOGL</th>\n",
       "      <th>XOM</th>\n",
       "    </tr>\n",
       "  </thead>\n",
       "  <tbody>\n",
       "    <tr>\n",
       "      <th>UpperBounds</th>\n",
       "      <td>7.239287</td>\n",
       "      <td>11.827653</td>\n",
       "      <td>13.095637</td>\n",
       "      <td>9.045707</td>\n",
       "      <td>9.965487</td>\n",
       "      <td>9.962457</td>\n",
       "      <td>5.664039</td>\n",
       "    </tr>\n",
       "    <tr>\n",
       "      <th>LowerBounds</th>\n",
       "      <td>-5.104175</td>\n",
       "      <td>-6.773441</td>\n",
       "      <td>-7.778984</td>\n",
       "      <td>-7.165807</td>\n",
       "      <td>-6.472020</td>\n",
       "      <td>-6.477886</td>\n",
       "      <td>-4.901737</td>\n",
       "    </tr>\n",
       "  </tbody>\n",
       "</table>\n",
       "</div>"
      ],
      "text/plain": [
       "                 MSFT       AAPL       AMZN       JPM      GOOG     GOOGL  \\\n",
       "UpperBounds  7.239287  11.827653  13.095637  9.045707  9.965487  9.962457   \n",
       "LowerBounds -5.104175  -6.773441  -7.778984 -7.165807 -6.472020 -6.477886   \n",
       "\n",
       "                  XOM  \n",
       "UpperBounds  5.664039  \n",
       "LowerBounds -4.901737  "
      ]
     },
     "execution_count": 10,
     "metadata": {},
     "output_type": "execute_result"
    }
   ],
   "source": [
    "pctBounds_20 = UpperLowerBounds(pctChange_20)\n",
    "pctBounds_40 = UpperLowerBounds(pctChange_40)\n",
    "pctBounds_60 = UpperLowerBounds(pctChange_60)\n",
    "pctBoundsList = UpperLowerBounds(pctChangeList)\n",
    "pctBounds_20"
   ]
  },
  {
   "cell_type": "code",
   "execution_count": null,
   "metadata": {},
   "outputs": [],
   "source": [
    "print(type(test))\n",
    "type(test) == list or type(test) == tuple"
   ]
  },
  {
   "cell_type": "markdown",
   "metadata": {},
   "source": [
    "<h3>Method 3</h3>\n",
    "<h4>I created the following code in an attempt to find a way to automate creating the UpperLower data</h4>\n"
   ]
  },
  {
   "cell_type": "code",
   "execution_count": null,
   "metadata": {},
   "outputs": [],
   "source": [
    "'''\n",
    "UpperLower_data = [UpperLower_20, UpperLower_40, UpperLower_60]\n",
    "pctChangeSummary_list = [pctChangeSummary_20, pctChangeSummary_40, pctChangeSummary_60]\n",
    "for item, data in zip(UpperLower_data, pctChangeSummary_list):\n",
    "    item['Upper_1std'] = data['mean'] + data['std']\n",
    "    item['Lower_1std'] = data['mean'] - data['std']\n",
    "    item['PctRange'] = (data['mean'] + data['std']) - (data['mean'] - data['std'])\n",
    "''' "
   ]
  },
  {
   "cell_type": "code",
   "execution_count": null,
   "metadata": {},
   "outputs": [],
   "source": [
    "for item in UpperLower_list:\n",
    "    print(item)"
   ]
  },
  {
   "cell_type": "code",
   "execution_count": null,
   "metadata": {},
   "outputs": [],
   "source": [
    "'''\n",
    "for position, value in enumerate(UpperLower_list):\n",
    "    print(position)\n",
    "    print(value)\n",
    "    print()\n",
    "'''"
   ]
  },
  {
   "cell_type": "markdown",
   "metadata": {},
   "source": [
    "<h2>Number of times a stock exceeded it upper and lower 1std dev bounds</h2>"
   ]
  },
  {
   "cell_type": "markdown",
   "metadata": {},
   "source": [
    "<h3>Method 1</h3>"
   ]
  },
  {
   "cell_type": "code",
   "execution_count": null,
   "metadata": {},
   "outputs": [],
   "source": [
    "tickers = list(clean_data.columns)\n",
    "pctChange_list = [pctChange_20, pctChange_40, pctChange_60]\n",
    "timePeriods = ['20', '40', '60']\n",
    "UpperLower_data = [UpperLower_20, UpperLower_40, UpperLower_60]"
   ]
  },
  {
   "cell_type": "code",
   "execution_count": null,
   "metadata": {},
   "outputs": [],
   "source": [
    "UpperLower_data[0].loc['MSFT'].iloc[0]"
   ]
  },
  {
   "cell_type": "code",
   "execution_count": null,
   "metadata": {},
   "outputs": [],
   "source": [
    "# Count will the to total of times the pct return was greater or less than value (mean +- stddev).\n",
    "\n",
    "countBoundsExceeded = pd.DataFrame(0, index=tickers, columns=['Exceeds_20', 'Exceeds_40', 'Exceeds_60'])\n",
    "counter = 1\n",
    "steps = 0\n",
    "for ticker in tickers:\n",
    "    #print('Step: ', counter, ' / ', len(tickers))\n",
    "    counter += 1\n",
    "    location = 0\n",
    "    for data, bench, position in zip(pctChange_list, UpperLower_data,\\\n",
    "                                     ['Exceeds_20', 'Exceeds_40', 'Exceeds_60']):\n",
    "        upper = bench.loc[ticker].iloc[0]\n",
    "        lower = bench.loc[ticker].iloc[1]\n",
    "        for value in data[ticker]:\n",
    "            steps +=1\n",
    "            if value > upper or value < lower:\n",
    "                countBoundsExceeded[position].loc[ticker] += 1\n",
    "        location += 1\n",
    "print(steps)"
   ]
  },
  {
   "cell_type": "code",
   "execution_count": null,
   "metadata": {
    "scrolled": false
   },
   "outputs": [],
   "source": [
    "countBoundsExceeded"
   ]
  },
  {
   "cell_type": "code",
   "execution_count": null,
   "metadata": {},
   "outputs": [],
   "source": [
    "countBoundsExceeded['Total'] = countBoundsExceeded.sum(axis=1)"
   ]
  },
  {
   "cell_type": "code",
   "execution_count": null,
   "metadata": {},
   "outputs": [],
   "source": [
    "countBoundsExceeded"
   ]
  },
  {
   "cell_type": "code",
   "execution_count": null,
   "metadata": {},
   "outputs": [],
   "source": [
    "print(len(pctChange_20))\n",
    "pctChange_20.shape"
   ]
  },
  {
   "cell_type": "markdown",
   "metadata": {},
   "source": [
    "<h3>Method 2</h3>\n",
    "<h4>My preferred method</h4>"
   ]
  },
  {
   "cell_type": "code",
   "execution_count": 11,
   "metadata": {},
   "outputs": [],
   "source": [
    "def TimesBoundsExceeded(data):\n",
    "    '''\n",
    "    Takes in a DataFrame and returnds the 1 standard deviation bounds\n",
    "    of the data. The return object is type pandas.DataFrame.\n",
    "    Can also take in a list or tuple of DataFrames.\n",
    "    If a list in entered, the returned item is a list of DataFrames. \n",
    "    In this list, each index = the result of DataFrame in respective order of how they were contained \n",
    "    in the list.\n",
    "    '''\n",
    "    if type(data) == list or type(data) == tuple:\n",
    "        assert type(data[0]) == type(pd.DataFrame()), 'List does not contain type DataFrame'\n",
    "        bounds = []\n",
    "        for item in data:\n",
    "            bounds.append(TimesBoundsExceeded(item))\n",
    "        request = pd.DataFrame(bounds)\n",
    "        return request\n",
    "    else:\n",
    "        assert (type(data)==type(pd.DataFrame())), 'Input not type Pandas DataFrame.'\n",
    "        upper = data > UpperLowerBounds(data).loc['UpperBounds']\n",
    "        lower = data < UpperLowerBounds(data).loc['LowerBounds']\n",
    "        count = data[upper].count() + data[lower].count()\n",
    "        return count"
   ]
  },
  {
   "cell_type": "code",
   "execution_count": 12,
   "metadata": {
    "scrolled": true
   },
   "outputs": [
    {
     "data": {
      "text/html": [
       "<div>\n",
       "<style scoped>\n",
       "    .dataframe tbody tr th:only-of-type {\n",
       "        vertical-align: middle;\n",
       "    }\n",
       "\n",
       "    .dataframe tbody tr th {\n",
       "        vertical-align: top;\n",
       "    }\n",
       "\n",
       "    .dataframe thead th {\n",
       "        text-align: right;\n",
       "    }\n",
       "</style>\n",
       "<table border=\"1\" class=\"dataframe\">\n",
       "  <thead>\n",
       "    <tr style=\"text-align: right;\">\n",
       "      <th></th>\n",
       "      <th>20 Day</th>\n",
       "      <th>40 Day</th>\n",
       "      <th>60 Day</th>\n",
       "    </tr>\n",
       "  </thead>\n",
       "  <tbody>\n",
       "    <tr>\n",
       "      <th>MSFT</th>\n",
       "      <td>922</td>\n",
       "      <td>1109</td>\n",
       "      <td>1056</td>\n",
       "    </tr>\n",
       "    <tr>\n",
       "      <th>AAPL</th>\n",
       "      <td>1030</td>\n",
       "      <td>942</td>\n",
       "      <td>1030</td>\n",
       "    </tr>\n",
       "    <tr>\n",
       "      <th>AMZN</th>\n",
       "      <td>910</td>\n",
       "      <td>912</td>\n",
       "      <td>894</td>\n",
       "    </tr>\n",
       "    <tr>\n",
       "      <th>JPM</th>\n",
       "      <td>721</td>\n",
       "      <td>692</td>\n",
       "      <td>795</td>\n",
       "    </tr>\n",
       "    <tr>\n",
       "      <th>GOOG</th>\n",
       "      <td>982</td>\n",
       "      <td>983</td>\n",
       "      <td>885</td>\n",
       "    </tr>\n",
       "    <tr>\n",
       "      <th>GOOGL</th>\n",
       "      <td>998</td>\n",
       "      <td>966</td>\n",
       "      <td>889</td>\n",
       "    </tr>\n",
       "    <tr>\n",
       "      <th>XOM</th>\n",
       "      <td>1164</td>\n",
       "      <td>1093</td>\n",
       "      <td>1140</td>\n",
       "    </tr>\n",
       "  </tbody>\n",
       "</table>\n",
       "</div>"
      ],
      "text/plain": [
       "       20 Day  40 Day  60 Day\n",
       "MSFT      922    1109    1056\n",
       "AAPL     1030     942    1030\n",
       "AMZN      910     912     894\n",
       "JPM       721     692     795\n",
       "GOOG      982     983     885\n",
       "GOOGL     998     966     889\n",
       "XOM      1164    1093    1140"
      ]
     },
     "execution_count": 12,
     "metadata": {},
     "output_type": "execute_result"
    }
   ],
   "source": [
    "countBoundsExceeded = TimesBoundsExceeded([pctChange_20, pctChange_40, pctChange_60]).transpose()\n",
    "countBoundsExceeded.columns = ['20 Day', '40 Day', '60 Day']\n",
    "countBoundsExceeded"
   ]
  },
  {
   "cell_type": "markdown",
   "metadata": {},
   "source": [
    "<h2> Converting the number of times to percentage of time</h2>\n",
    "<h3>Method 1</h3>\n"
   ]
  },
  {
   "cell_type": "code",
   "execution_count": 13,
   "metadata": {
    "scrolled": false
   },
   "outputs": [
    {
     "data": {
      "text/html": [
       "<div>\n",
       "<style scoped>\n",
       "    .dataframe tbody tr th:only-of-type {\n",
       "        vertical-align: middle;\n",
       "    }\n",
       "\n",
       "    .dataframe tbody tr th {\n",
       "        vertical-align: top;\n",
       "    }\n",
       "\n",
       "    .dataframe thead th {\n",
       "        text-align: right;\n",
       "    }\n",
       "</style>\n",
       "<table border=\"1\" class=\"dataframe\">\n",
       "  <thead>\n",
       "    <tr style=\"text-align: right;\">\n",
       "      <th></th>\n",
       "      <th>20 Day</th>\n",
       "      <th>40 Day</th>\n",
       "      <th>60 Day</th>\n",
       "    </tr>\n",
       "  </thead>\n",
       "  <tbody>\n",
       "    <tr>\n",
       "      <th>MSFT</th>\n",
       "      <td>0.256</td>\n",
       "      <td>0.308</td>\n",
       "      <td>0.294</td>\n",
       "    </tr>\n",
       "    <tr>\n",
       "      <th>AAPL</th>\n",
       "      <td>0.286</td>\n",
       "      <td>0.262</td>\n",
       "      <td>0.286</td>\n",
       "    </tr>\n",
       "    <tr>\n",
       "      <th>AMZN</th>\n",
       "      <td>0.253</td>\n",
       "      <td>0.254</td>\n",
       "      <td>0.249</td>\n",
       "    </tr>\n",
       "    <tr>\n",
       "      <th>JPM</th>\n",
       "      <td>0.200</td>\n",
       "      <td>0.192</td>\n",
       "      <td>0.221</td>\n",
       "    </tr>\n",
       "    <tr>\n",
       "      <th>GOOG</th>\n",
       "      <td>0.273</td>\n",
       "      <td>0.273</td>\n",
       "      <td>0.246</td>\n",
       "    </tr>\n",
       "    <tr>\n",
       "      <th>GOOGL</th>\n",
       "      <td>0.277</td>\n",
       "      <td>0.269</td>\n",
       "      <td>0.247</td>\n",
       "    </tr>\n",
       "    <tr>\n",
       "      <th>XOM</th>\n",
       "      <td>0.324</td>\n",
       "      <td>0.304</td>\n",
       "      <td>0.317</td>\n",
       "    </tr>\n",
       "  </tbody>\n",
       "</table>\n",
       "</div>"
      ],
      "text/plain": [
       "       20 Day  40 Day  60 Day\n",
       "MSFT    0.256   0.308   0.294\n",
       "AAPL    0.286   0.262   0.286\n",
       "AMZN    0.253   0.254   0.249\n",
       "JPM     0.200   0.192   0.221\n",
       "GOOG    0.273   0.273   0.246\n",
       "GOOGL   0.277   0.269   0.247\n",
       "XOM     0.324   0.304   0.317"
      ]
     },
     "execution_count": 13,
     "metadata": {},
     "output_type": "execute_result"
    }
   ],
   "source": [
    "pctBoundsExceeded = round(countBoundsExceeded / len(pctChange_20), 3)\n",
    "pctBoundsExceeded"
   ]
  },
  {
   "cell_type": "markdown",
   "metadata": {},
   "source": [
    "<h1>The next cells became obsolete after I revisited the above items.\n",
    "<p>Go to 'Continue Here.'</h1>\n",
    "<h2>Create a benchmark dataframe with the same shape as pctChange</h2>"
   ]
  },
  {
   "cell_type": "markdown",
   "metadata": {},
   "source": [
    "<h3>Method 1</h3>\n",
    "<h4>Non-efficient method</h4>\n",
    "<h4>I was able to build a better system. Go to method 2</h4>"
   ]
  },
  {
   "cell_type": "code",
   "execution_count": null,
   "metadata": {
    "scrolled": true
   },
   "outputs": [],
   "source": [
    "UpperLower_20.transpose()"
   ]
  },
  {
   "cell_type": "code",
   "execution_count": null,
   "metadata": {},
   "outputs": [],
   "source": [
    "UpperLower_20.transpose().loc['Upper_1std_20']"
   ]
  },
  {
   "cell_type": "code",
   "execution_count": null,
   "metadata": {},
   "outputs": [],
   "source": [
    "msft = pd.DataFrame(7.23, index=range(0,3597), columns=['MSFT'])\n",
    "aapl = pd.DataFrame(11.82, index=range(0,3597), columns=['AAPL'])\n",
    "amzn = pd.DataFrame(13.0956, index=range(0,3597), columns=['AMZN'])\n",
    "jpm = pd.DataFrame(9.04, index=range(0,3597), columns=['JPM'])\n",
    "goog = pd.DataFrame(9.96, index=range(0,3597), columns=['GOOG'])\n",
    "googl = pd.DataFrame(9.96, index=range(0,3597), columns=['GOOGL'])\n",
    "xom = pd.DataFrame(5.66, index=range(0,3597), columns=['XOM'])"
   ]
  },
  {
   "cell_type": "code",
   "execution_count": null,
   "metadata": {},
   "outputs": [],
   "source": [
    "upperBench = pd.concat([msft, aapl, amzn, jpm, goog, googl, xom], axis=1)"
   ]
  },
  {
   "cell_type": "code",
   "execution_count": null,
   "metadata": {},
   "outputs": [],
   "source": [
    "upperBench.head()"
   ]
  },
  {
   "cell_type": "code",
   "execution_count": null,
   "metadata": {},
   "outputs": [],
   "source": [
    "print(pctChange_20.shape)\n",
    "print(bench.shape)"
   ]
  },
  {
   "cell_type": "code",
   "execution_count": null,
   "metadata": {},
   "outputs": [],
   "source": [
    "UpperLower_20.transpose().loc['Lower_1std_20']"
   ]
  },
  {
   "cell_type": "code",
   "execution_count": null,
   "metadata": {},
   "outputs": [],
   "source": [
    "msft = pd.DataFrame(-5.104175, index=range(0,3597), columns=['MSFT'])\n",
    "aapl = pd.DataFrame(-6.77, index=range(0,3597), columns=['AAPL'])\n",
    "amzn = pd.DataFrame(-7.77, index=range(0,3597), columns=['AMZN'])\n",
    "jpm = pd.DataFrame(-7.16, index=range(0,3597), columns=['JPM'])\n",
    "goog = pd.DataFrame(-6.47, index=range(0,3597), columns=['GOOG'])\n",
    "googl = pd.DataFrame(-6.47, index=range(0,3597), columns=['GOOGL'])\n",
    "xom = pd.DataFrame(-4.90, index=range(0,3597), columns=['XOM'])"
   ]
  },
  {
   "cell_type": "code",
   "execution_count": null,
   "metadata": {},
   "outputs": [],
   "source": [
    "lowerBench = pd.concat([msft, aapl, amzn, jpm, goog, googl, xom], axis=1)"
   ]
  },
  {
   "cell_type": "code",
   "execution_count": null,
   "metadata": {},
   "outputs": [],
   "source": [
    "# Match the indexs / convert to datetime\n",
    "upperBench.index = pctChange_20.index\n",
    "lowerBench.index = pctChange_20.index"
   ]
  },
  {
   "cell_type": "code",
   "execution_count": null,
   "metadata": {},
   "outputs": [],
   "source": [
    "outsideBoundsTest = (pctChange_20 > bench) | (pctChange_20 < lowerBench)\n",
    "datesOutsideBounds = pctChange_20[uppertest]"
   ]
  },
  {
   "cell_type": "code",
   "execution_count": null,
   "metadata": {},
   "outputs": [],
   "source": [
    "datesOutsideBounds['JPM'].dropna().shape"
   ]
  },
  {
   "cell_type": "code",
   "execution_count": null,
   "metadata": {},
   "outputs": [],
   "source": [
    "countBoundsExceeded"
   ]
  },
  {
   "cell_type": "code",
   "execution_count": null,
   "metadata": {
    "scrolled": true
   },
   "outputs": [],
   "source": [
    "datesOutsideBounds['MSFT'].dropna().plot.bar()"
   ]
  },
  {
   "cell_type": "markdown",
   "metadata": {},
   "source": [
    "<h3> Method 2 </h3>\n",
    "<p>attempt to build efficient code for method 1<p>"
   ]
  },
  {
   "cell_type": "code",
   "execution_count": null,
   "metadata": {},
   "outputs": [],
   "source": [
    "def BenchBuilder(df, data):\n",
    "    # df should be the UpperLower for the timeframe ie: UpperLower_20\n",
    "    # data should be the % Change df for the timeframe ie: pctChange_20\n",
    "    upperBench = pd.DataFrame(0, index=np.arange(len(data)), columns=tickers)\n",
    "    lowerBench = pd.DataFrame(0, index=np.arange(len(data)), columns=tickers)\n",
    "    for col1, col2 in df.iteritems():\n",
    "        for ticker, bench in col2.iteritems():\n",
    "            name = col1.split('_')\n",
    "            if 'Upper' in name:\n",
    "                upperBench[ticker] = bench\n",
    "            else:\n",
    "                lowerBench[ticker] = bench\n",
    "    upperBench.index = data.index\n",
    "    lowerBench.index = data.index\n",
    "    outsideBoundsTest = (data > upperBench) | (data < lowerBench)\n",
    "    datesOutsideBounds = pctChange_20[outsideBoundsTest]\n",
    "    return datesOutsideBounds"
   ]
  },
  {
   "cell_type": "code",
   "execution_count": null,
   "metadata": {},
   "outputs": [],
   "source": [
    "print(len(pctChange_20.index))\n",
    "bench = BenchBuilder(UpperLower_20, pctChange_20)\n",
    "outsideBoundsTest = (pctChange_20 > bench['Upper']) | (pctChange_20 < bench['Lower'])\n",
    "datesOutsideBounds = pctChange_20[outsideBoundsTest]"
   ]
  },
  {
   "cell_type": "markdown",
   "metadata": {},
   "source": [
    "<h1><font color='red'>Continue Here</font><h1>"
   ]
  },
  {
   "cell_type": "markdown",
   "metadata": {},
   "source": [
    "<h3>Break down by year</h3>\n",
    "<h4>I now want to search for a seasonality in the data by slicing the data in yearly periods</h4>"
   ]
  },
  {
   "cell_type": "code",
   "execution_count": 14,
   "metadata": {},
   "outputs": [],
   "source": [
    "def ByYear(data, year):\n",
    "    '''\n",
    "    Input:\n",
    "      pd.DataFrame or list/tuple. If list/tuple, values must be\n",
    "      type pd.DataFrame as well\n",
    "    \n",
    "    If list or tuple is passed in for year, data must be type int. \n",
    "    The return item will be a dictionary where the keys are the str of\n",
    "    the years that where input.\n",
    "    \n",
    "    If an int is passed in for year, a data will be returned filtered by \n",
    "    the year.\n",
    "    '''\n",
    "    if (type(year) == list) or (type(year) == tuple):\n",
    "        request = {}\n",
    "        for n in year:\n",
    "            assert type(n) == int, 'Year must contain type int.'\n",
    "            cut = ByYear(data, n)\n",
    "            # replaces timedate index with int range.\n",
    "            cut.index = range(1,(len(cut)+1))\n",
    "            request[n] = cut\n",
    "        return request\n",
    "    else:\n",
    "        choose = data.index.year == year\n",
    "        return data[choose]"
   ]
  },
  {
   "cell_type": "code",
   "execution_count": 15,
   "metadata": {},
   "outputs": [],
   "source": [
    "def YearsContained(data):\n",
    "    years = []\n",
    "    for year in data.index.year:\n",
    "        if year in years:\n",
    "            pass\n",
    "        else:\n",
    "            years.append(year)\n",
    "    return years"
   ]
  },
  {
   "cell_type": "code",
   "execution_count": 21,
   "metadata": {},
   "outputs": [
    {
     "name": "stdout",
     "output_type": "stream",
     "text": [
      "<class 'pandas.core.frame.DataFrame'>\n"
     ]
    },
    {
     "data": {
      "text/plain": [
       "DatetimeIndex(['2005-01-03', '2005-01-04', '2005-01-05', '2005-01-06',\n",
       "               '2005-01-07', '2005-01-10', '2005-01-11', '2005-01-12',\n",
       "               '2005-01-13', '2005-01-14',\n",
       "               ...\n",
       "               '2019-05-03', '2019-05-06', '2019-05-07', '2019-05-08',\n",
       "               '2019-05-09', '2019-05-10', '2019-05-13', '2019-05-14',\n",
       "               '2019-05-15', '2019-05-16'],\n",
       "              dtype='datetime64[ns]', name='Date', length=3617, freq=None)"
      ]
     },
     "execution_count": 21,
     "metadata": {},
     "output_type": "execute_result"
    }
   ],
   "source": [
    "YearsContained(clean_data)\n",
    "print(type(clean_data))\n",
    "clean_data.index"
   ]
  },
  {
   "cell_type": "code",
   "execution_count": 16,
   "metadata": {},
   "outputs": [],
   "source": [
    "a = ByYear(pctChange_20['MSFT'], YearsContained(pctChange_20))\n",
    "a = pd.DataFrame(a)"
   ]
  },
  {
   "cell_type": "markdown",
   "metadata": {},
   "source": [
    "<h3>Break down by year and stock</h3>"
   ]
  },
  {
   "cell_type": "code",
   "execution_count": 18,
   "metadata": {},
   "outputs": [],
   "source": [
    "def ByStockAndYear(data):\n",
    "    '''\n",
    "    Input: pd.DataFrame \n",
    "    Returns: dictionary where keys=tickers and values=DataFrame.\n",
    "        Within the Values, the columns are calendar years and \n",
    "        the index are the number day in the year.\n",
    "    '''\n",
    "    # if data for one stock is entered\n",
    "    if type(data) == pd.Series:\n",
    "        request = ByYear(data, YearsContained(data))\n",
    "        request = pd.DataFrame(request)\n",
    "        return ByYear(data, YearsContained(data))\n",
    "    \n",
    "    # if data for multiple stocks is entered\n",
    "    else:\n",
    "        tickers = data.columns\n",
    "        request = {}\n",
    "        for ticker in tickers:\n",
    "            getStockYears = ByYear(data[ticker], YearsContained(data))\n",
    "            getStockYears = pd.DataFrame(getStockYears)\n",
    "            request[ticker] = getStockYears\n",
    "        return request\n",
    "        \n",
    "        \n",
    "        \n",
    "    "
   ]
  },
  {
   "cell_type": "code",
   "execution_count": 19,
   "metadata": {},
   "outputs": [],
   "source": [
    "byStockAndYear_20 = ByStockAndYear(pctChange_20)\n",
    "byStockAndYear_40 = ByStockAndYear(pctChange_40)\n",
    "byStockAndYear_60 = ByStockAndYear(pctChange_60)\n",
    "byStockAndYearList = [byStockAndYear_20, byStockAndYear_40, byStockAndYear_60]"
   ]
  },
  {
   "cell_type": "markdown",
   "metadata": {},
   "source": [
    "<h3> Lets look at the correlation by year</h3>"
   ]
  },
  {
   "cell_type": "code",
   "execution_count": null,
   "metadata": {},
   "outputs": [],
   "source": [
    "def CorrSlideShow(data):\n",
    "    '''\n",
    "    Input a dictionary whose values are dataframes.\n",
    "    Output: yields correlation matrix by years.\n",
    "    Note: yield is being used.\n",
    "    '''\n",
    "    assert type(data) == dict, 'Input must be type dictionary.'\n",
    "    for year in data:\n",
    "        yield print(str(year),'\\n',data[year].corr())\n",
    "        "
   ]
  },
  {
   "cell_type": "code",
   "execution_count": null,
   "metadata": {},
   "outputs": [],
   "source": [
    "study = CorrSlideShow(byStockAndYear_20)"
   ]
  },
  {
   "cell_type": "code",
   "execution_count": null,
   "metadata": {
    "scrolled": true
   },
   "outputs": [],
   "source": [
    "# Since the slide show yields the results, this line must be run to cycle \n",
    "# forward through the data.\n",
    "next(study)"
   ]
  },
  {
   "cell_type": "markdown",
   "metadata": {},
   "source": [
    "<h2>Method 1 of looking at correlation</h2>\n",
    "<h3>Not using pandas broadcasting</h3>"
   ]
  },
  {
   "cell_type": "code",
   "execution_count": null,
   "metadata": {},
   "outputs": [],
   "source": [
    "def CorrOverN(data, n): \n",
    "    '''\n",
    "    input: data frame\n",
    "    output: correlation table where the True values are those \n",
    "        with a correlation <= or >= to n.\n",
    "    '''\n",
    "    if type(n) == list:\n",
    "        Ns = []\n",
    "        for item in n:\n",
    "            Ns.appen(item)\n",
    "        test = (data>Ns[0]) | (data<Ns[1])\n",
    "        return data[test]\n",
    "    else:\n",
    "        test = (data > n) | (data < -n)\n",
    "        return data[test]"
   ]
  },
  {
   "cell_type": "code",
   "execution_count": null,
   "metadata": {
    "scrolled": true
   },
   "outputs": [],
   "source": [
    "CorrOverN(byStockAndYear_20['MSFT'].corr(), 0.5)"
   ]
  },
  {
   "cell_type": "markdown",
   "metadata": {},
   "source": [
    "<h2>Method 2</h2>\n",
    "<h3>Using Pandas broadcasting</h3>"
   ]
  },
  {
   "cell_type": "code",
   "execution_count": 23,
   "metadata": {},
   "outputs": [],
   "source": [
    "def CorrelationTest(data, r):\n",
    "    '''\n",
    "    Input Type: pd.DataFrame\n",
    "    Input: DataFrame that was the output of the an output of the byStockAndYear function.\n",
    "        DataFrame must be for a single stock. \n",
    "    Output: The instances in which the correlation was >= or <= to r.\n",
    "        All corr values of 1 are excluded.\n",
    "    Purpose: a test to see if there is any correlation in the data by year.\n",
    "    '''\n",
    "    data = data.corr() \n",
    "    test = ((data >= r) | (data <= -r)) & (data != 1)\n",
    "    request = data[test].unstack().sort_values().dropna()\n",
    "    if len(request) == 0:\n",
    "        return print('There were no instances that met your criteria')\n",
    "    return request.drop_duplicates()"
   ]
  },
  {
   "cell_type": "code",
   "execution_count": 24,
   "metadata": {
    "scrolled": true
   },
   "outputs": [
    {
     "name": "stdout",
     "output_type": "stream",
     "text": [
      "There were no instances that met your criteria\n"
     ]
    }
   ],
   "source": [
    "trial = CorrelationTest(byStockAndYear_20['AAPL'], 0.7)"
   ]
  },
  {
   "cell_type": "code",
   "execution_count": 25,
   "metadata": {
    "scrolled": true
   },
   "outputs": [
    {
     "name": "stdout",
     "output_type": "stream",
     "text": [
      "MSFT\n",
      "2007  2015    0.620206\n",
      "      2017    0.671419\n",
      "dtype: float64\n",
      "AAPL\n",
      "2005  2019   -0.648047\n",
      "dtype: float64\n",
      "AMZN\n",
      "There were no instances that met your criteria\n",
      "None\n",
      "JPM\n",
      "2014  2019   -0.753404\n",
      "dtype: float64\n",
      "GOOG\n",
      "2005  2014   -0.716644\n",
      "2011  2015    0.632413\n",
      "dtype: float64\n",
      "GOOGL\n",
      "2005  2014   -0.706365\n",
      "2011  2015    0.624912\n",
      "dtype: float64\n",
      "XOM\n",
      "2005  2017   -0.609238\n",
      "dtype: float64\n"
     ]
    }
   ],
   "source": [
    "for stock in byStockAndYear_20:\n",
    "    print(stock)\n",
    "    print(CorrelationTest(byStockAndYear_20[stock], 0.6))"
   ]
  },
  {
   "cell_type": "markdown",
   "metadata": {},
   "source": [
    "<h2>Lets look at Rolling Correlation by year</h2>"
   ]
  },
  {
   "cell_type": "code",
   "execution_count": null,
   "metadata": {},
   "outputs": [],
   "source": []
  },
  {
   "cell_type": "code",
   "execution_count": null,
   "metadata": {},
   "outputs": [],
   "source": []
  },
  {
   "cell_type": "code",
   "execution_count": null,
   "metadata": {},
   "outputs": [],
   "source": []
  },
  {
   "cell_type": "markdown",
   "metadata": {},
   "source": [
    "<h2> Lets look for any potential seasonality in the stocks\n",
    "using Charts</h2>"
   ]
  },
  {
   "cell_type": "code",
   "execution_count": null,
   "metadata": {},
   "outputs": [],
   "source": [
    "# byStockAndYear = dict\n",
    "# keys: ['MSFT', 'AAPL', 'AMZN', 'JPM', 'GOOG', 'GOOGL', 'XOM']\n",
    "type(byStockAndYear_20['MSFT'])"
   ]
  },
  {
   "cell_type": "code",
   "execution_count": null,
   "metadata": {},
   "outputs": [],
   "source": [
    "'''\n",
    "I left of attempting to create the below function. I am\n",
    "cycling through the charts in order.  I need to start adding the labels\n",
    "to the charts.\n",
    "'''"
   ]
  },
  {
   "cell_type": "code",
   "execution_count": 126,
   "metadata": {
    "scrolled": true
   },
   "outputs": [],
   "source": [
    "def CycleRollingCharts(data):\n",
    "    '''\n",
    "    Input: byStockAndYear[ticker]\n",
    "    Output: 3 pane chart where the charts cycle in the pattern abc, bcd, cde...\n",
    "    Area for Improvement: a better method for showing the next chart. Clear() works ok.\n",
    "        Labeling and add key.\n",
    "        Change the color of the lines.\n",
    "        Must change chart dimensions to better fit the window.\n",
    "    '''\n",
    "    for stock, value in data.items():\n",
    "        for i, year in enumerate(value.columns):\n",
    "            # axes = pane; 0=top, 1=middle, 2=bottom\n",
    "            fig, axes = plt.subplots(3,1)\n",
    "            axes[0].set(ylabel=year+2)\n",
    "            axes[1].set(ylabel=year+1)\n",
    "            axes[2].set(ylabel=year)\n",
    "            axes[0].plot(value[year+2])\n",
    "            axes[1].plot(value[year+1])\n",
    "            axes[2].plot(value[year])\n",
    "            print(i)\n",
    "            yield plt.show()      "
   ]
  },
  {
   "cell_type": "code",
   "execution_count": 128,
   "metadata": {},
   "outputs": [],
   "source": [
    "trial = CycleRollingCharts(byStockAndYear_20)"
   ]
  },
  {
   "cell_type": "code",
   "execution_count": 129,
   "metadata": {
    "scrolled": false
   },
   "outputs": [
    {
     "data": {
      "text/plain": [
       "<generator object CycleRollingCharts at 0x00000274FA7D1D68>"
      ]
     },
     "execution_count": 129,
     "metadata": {},
     "output_type": "execute_result"
    }
   ],
   "source": [
    "next(trial)"
   ]
  },
  {
   "cell_type": "code",
   "execution_count": 199,
   "metadata": {},
   "outputs": [],
   "source": [
    "def cycle_charts2():\n",
    "    for ticker in clean_data.columns:\n",
    "        avg_std = px_rolling_std[ticker].mean()\n",
    "        \n",
    "        fig, axes = plt.subplots(2,1)\n",
    "        axes[0].set_title(ticker)\n",
    "        axes[0].set_xlabel('Date')\n",
    "        # Top Pane\n",
    "        axes[0].plot(clean_data[ticker], color='blue')\n",
    "        axes[0].set_ylabel('Price')\n",
    "        # Bottom Pane\n",
    "        axes[1].set_xlabel('Date')\n",
    "        axes[1].plot(px_rolling_std[ticker], color='orange', label='Rolling Std Dev')\n",
    "        axes[1].axhline(y=avg_std, label='Std Dev Mean')\n",
    "        axes[1].set_ylabel('Std Dev')\n",
    "        axes[1].legend()\n",
    "        yield plt.show() "
   ]
  }
 ],
 "metadata": {
  "kernelspec": {
   "display_name": "Python 3",
   "language": "python",
   "name": "python3"
  },
  "language_info": {
   "codemirror_mode": {
    "name": "ipython",
    "version": 3
   },
   "file_extension": ".py",
   "mimetype": "text/x-python",
   "name": "python",
   "nbconvert_exporter": "python",
   "pygments_lexer": "ipython3",
   "version": "3.7.3"
  }
 },
 "nbformat": 4,
 "nbformat_minor": 2
}
